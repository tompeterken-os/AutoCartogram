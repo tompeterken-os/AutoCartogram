{
 "cells": [
  {
   "cell_type": "code",
   "execution_count": 267,
   "metadata": {},
   "outputs": [],
   "source": [
    "import geopandas as gpd\n",
    "import pandas as pd\n",
    "import numpy as np\n",
    "import matplotlib.pyplot as plt\n",
    "import random\n",
    "from shapely.geometry import Point\n",
    "import copy"
   ]
  },
  {
   "cell_type": "code",
   "execution_count": 10,
   "metadata": {},
   "outputs": [],
   "source": [
    "geodata = gpd.read_file('./Data/LADs.geojson').to_crs('epsg:27700')\n",
    "geodata = geodata[['E09' in c for c in geodata['LAD20CD']]][['LAD20CD', 'LAD20NM', 'geometry']]\n",
    "geodata['dummy'] = geodata['geometry'].apply(lambda g: 1)"
   ]
  },
  {
   "cell_type": "code",
   "execution_count": 11,
   "metadata": {},
   "outputs": [],
   "source": [
    "geodata['centroid'] = geodata.centroid"
   ]
  },
  {
   "cell_type": "code",
   "execution_count": 12,
   "metadata": {},
   "outputs": [
    {
     "data": {
      "text/plain": [
       "<AxesSubplot:>"
      ]
     },
     "execution_count": 12,
     "metadata": {},
     "output_type": "execute_result"
    },
    {
     "data": {
      "image/png": "[encoded data removed]",
      "text/plain": [
       "<Figure size 432x288 with 1 Axes>"
      ]
     },
     "metadata": {
      "needs_background": "light"
     },
     "output_type": "display_data"
    }
   ],
   "source": [
    "geodata.plot()"
   ]
  },
  {
   "cell_type": "code",
   "execution_count": 120,
   "metadata": {},
   "outputs": [],
   "source": [
    "neighbours = geodata.sjoin(geodata, how='inner', predicate='touches')\n",
    "neighbours = neighbours.loc[neighbours['LAD20CD_left']!=neighbours['LAD20CD_right']]"
   ]
  },
  {
   "cell_type": "code",
   "execution_count": 121,
   "metadata": {},
   "outputs": [],
   "source": [
    "def angle_between(loca, locb):\n",
    "    xa, ya = loca.xy\n",
    "    xb, yb = locb.xy    \n",
    "    return np.arctan2(yb[0]-ya[0], xb[0]-xa[0])\n",
    "\n",
    "neighbours['target_angle'] = neighbours.apply(lambda row: angle_between(row['centroid_left'], row['centroid_right']), axis=1)\n",
    "neighbours = neighbours[['LAD20CD_left', 'LAD20CD_right', 'target_angle']]"
   ]
  },
  {
   "cell_type": "code",
   "execution_count": 122,
   "metadata": {},
   "outputs": [
    {
     "data": {
      "text/html": [
       "<div>\n",
       "<style scoped>\n",
       "    .dataframe tbody tr th:only-of-type {\n",
       "        vertical-align: middle;\n",
       "    }\n",
       "\n",
       "    .dataframe tbody tr th {\n",
       "        vertical-align: top;\n",
       "    }\n",
       "\n",
       "    .dataframe thead th {\n",
       "        text-align: right;\n",
       "    }\n",
       "</style>\n",
       "<table border=\"1\" class=\"dataframe\">\n",
       "  <thead>\n",
       "    <tr style=\"text-align: right;\">\n",
       "      <th></th>\n",
       "      <th>LAD20CD_left</th>\n",
       "      <th>LAD20CD_right</th>\n",
       "      <th>target_angle</th>\n",
       "    </tr>\n",
       "  </thead>\n",
       "  <tbody>\n",
       "    <tr>\n",
       "      <th>281</th>\n",
       "      <td>E09000001</td>\n",
       "      <td>E09000022</td>\n",
       "      <td>-1.797682</td>\n",
       "    </tr>\n",
       "    <tr>\n",
       "      <th>286</th>\n",
       "      <td>E09000006</td>\n",
       "      <td>E09000022</td>\n",
       "      <td>2.514451</td>\n",
       "    </tr>\n",
       "    <tr>\n",
       "      <th>288</th>\n",
       "      <td>E09000008</td>\n",
       "      <td>E09000022</td>\n",
       "      <td>1.799088</td>\n",
       "    </tr>\n",
       "    <tr>\n",
       "      <th>304</th>\n",
       "      <td>E09000024</td>\n",
       "      <td>E09000022</td>\n",
       "      <td>0.763387</td>\n",
       "    </tr>\n",
       "    <tr>\n",
       "      <th>308</th>\n",
       "      <td>E09000028</td>\n",
       "      <td>E09000022</td>\n",
       "      <td>-2.456275</td>\n",
       "    </tr>\n",
       "    <tr>\n",
       "      <th>...</th>\n",
       "      <td>...</td>\n",
       "      <td>...</td>\n",
       "      <td>...</td>\n",
       "    </tr>\n",
       "    <tr>\n",
       "      <th>306</th>\n",
       "      <td>E09000026</td>\n",
       "      <td>E09000002</td>\n",
       "      <td>-0.806490</td>\n",
       "    </tr>\n",
       "    <tr>\n",
       "      <th>304</th>\n",
       "      <td>E09000024</td>\n",
       "      <td>E09000021</td>\n",
       "      <td>-2.769225</td>\n",
       "    </tr>\n",
       "    <tr>\n",
       "      <th>307</th>\n",
       "      <td>E09000027</td>\n",
       "      <td>E09000021</td>\n",
       "      <td>-1.256605</td>\n",
       "    </tr>\n",
       "    <tr>\n",
       "      <th>309</th>\n",
       "      <td>E09000029</td>\n",
       "      <td>E09000021</td>\n",
       "      <td>2.780267</td>\n",
       "    </tr>\n",
       "    <tr>\n",
       "      <th>312</th>\n",
       "      <td>E09000032</td>\n",
       "      <td>E09000021</td>\n",
       "      <td>-2.319379</td>\n",
       "    </tr>\n",
       "  </tbody>\n",
       "</table>\n",
       "<p>158 rows × 3 columns</p>\n",
       "</div>"
      ],
      "text/plain": [
       "    LAD20CD_left LAD20CD_right  target_angle\n",
       "281    E09000001     E09000022     -1.797682\n",
       "286    E09000006     E09000022      2.514451\n",
       "288    E09000008     E09000022      1.799088\n",
       "304    E09000024     E09000022      0.763387\n",
       "308    E09000028     E09000022     -2.456275\n",
       "..           ...           ...           ...\n",
       "306    E09000026     E09000002     -0.806490\n",
       "304    E09000024     E09000021     -2.769225\n",
       "307    E09000027     E09000021     -1.256605\n",
       "309    E09000029     E09000021      2.780267\n",
       "312    E09000032     E09000021     -2.319379\n",
       "\n",
       "[158 rows x 3 columns]"
      ]
     },
     "execution_count": 122,
     "metadata": {},
     "output_type": "execute_result"
    }
   ],
   "source": [
    "neighbours"
   ]
  },
  {
   "cell_type": "code",
   "execution_count": 123,
   "metadata": {},
   "outputs": [],
   "source": [
    "crossjoin = geodata.merge(geodata, how='inner', on='dummy', suffixes=('_left', '_right'))\n",
    "crossjoin = crossjoin.loc[crossjoin['LAD20CD_left']!=crossjoin['LAD20CD_right']]\n",
    "crossjoin['distance'] = crossjoin.apply(lambda row: row['centroid_left'].distance(row['centroid_right']), axis=1)\n",
    "crossjoin['target_distance_rank'] = crossjoin.groupby('LAD20CD_left')['distance'].rank()\n",
    "crossjoin['target_angle'] = crossjoin.apply(lambda row: angle_between(row['centroid_left'], row['centroid_right']), axis=1)\n",
    "distance_ranking = crossjoin[['LAD20CD_left', 'LAD20CD_right', 'target_distance_rank', 'target_angle']]"
   ]
  },
  {
   "cell_type": "code",
   "execution_count": 124,
   "metadata": {},
   "outputs": [
    {
     "data": {
      "text/html": [
       "<div>\n",
       "<style scoped>\n",
       "    .dataframe tbody tr th:only-of-type {\n",
       "        vertical-align: middle;\n",
       "    }\n",
       "\n",
       "    .dataframe tbody tr th {\n",
       "        vertical-align: top;\n",
       "    }\n",
       "\n",
       "    .dataframe thead th {\n",
       "        text-align: right;\n",
       "    }\n",
       "</style>\n",
       "<table border=\"1\" class=\"dataframe\">\n",
       "  <thead>\n",
       "    <tr style=\"text-align: right;\">\n",
       "      <th></th>\n",
       "      <th>LAD20CD_left</th>\n",
       "      <th>LAD20CD_right</th>\n",
       "      <th>target_distance_rank</th>\n",
       "      <th>target_angle</th>\n",
       "    </tr>\n",
       "  </thead>\n",
       "  <tbody>\n",
       "    <tr>\n",
       "      <th>1</th>\n",
       "      <td>E09000001</td>\n",
       "      <td>E09000002</td>\n",
       "      <td>21.0</td>\n",
       "      <td>0.237293</td>\n",
       "    </tr>\n",
       "    <tr>\n",
       "      <th>2</th>\n",
       "      <td>E09000001</td>\n",
       "      <td>E09000003</td>\n",
       "      <td>18.0</td>\n",
       "      <td>2.207847</td>\n",
       "    </tr>\n",
       "    <tr>\n",
       "      <th>3</th>\n",
       "      <td>E09000001</td>\n",
       "      <td>E09000004</td>\n",
       "      <td>24.0</td>\n",
       "      <td>-0.334989</td>\n",
       "    </tr>\n",
       "    <tr>\n",
       "      <th>4</th>\n",
       "      <td>E09000001</td>\n",
       "      <td>E09000005</td>\n",
       "      <td>16.0</td>\n",
       "      <td>2.777032</td>\n",
       "    </tr>\n",
       "    <tr>\n",
       "      <th>5</th>\n",
       "      <td>E09000001</td>\n",
       "      <td>E09000006</td>\n",
       "      <td>27.0</td>\n",
       "      <td>-0.978932</td>\n",
       "    </tr>\n",
       "    <tr>\n",
       "      <th>...</th>\n",
       "      <td>...</td>\n",
       "      <td>...</td>\n",
       "      <td>...</td>\n",
       "      <td>...</td>\n",
       "    </tr>\n",
       "    <tr>\n",
       "      <th>1083</th>\n",
       "      <td>E09000033</td>\n",
       "      <td>E09000028</td>\n",
       "      <td>8.0</td>\n",
       "      <td>-0.612246</td>\n",
       "    </tr>\n",
       "    <tr>\n",
       "      <th>1084</th>\n",
       "      <td>E09000033</td>\n",
       "      <td>E09000029</td>\n",
       "      <td>25.0</td>\n",
       "      <td>-1.619409</td>\n",
       "    </tr>\n",
       "    <tr>\n",
       "      <th>1085</th>\n",
       "      <td>E09000033</td>\n",
       "      <td>E09000030</td>\n",
       "      <td>10.0</td>\n",
       "      <td>0.073124</td>\n",
       "    </tr>\n",
       "    <tr>\n",
       "      <th>1086</th>\n",
       "      <td>E09000033</td>\n",
       "      <td>E09000031</td>\n",
       "      <td>18.0</td>\n",
       "      <td>0.751657</td>\n",
       "    </tr>\n",
       "    <tr>\n",
       "      <th>1087</th>\n",
       "      <td>E09000033</td>\n",
       "      <td>E09000032</td>\n",
       "      <td>6.0</td>\n",
       "      <td>-1.818955</td>\n",
       "    </tr>\n",
       "  </tbody>\n",
       "</table>\n",
       "<p>1056 rows × 4 columns</p>\n",
       "</div>"
      ],
      "text/plain": [
       "     LAD20CD_left LAD20CD_right  target_distance_rank  target_angle\n",
       "1       E09000001     E09000002                  21.0      0.237293\n",
       "2       E09000001     E09000003                  18.0      2.207847\n",
       "3       E09000001     E09000004                  24.0     -0.334989\n",
       "4       E09000001     E09000005                  16.0      2.777032\n",
       "5       E09000001     E09000006                  27.0     -0.978932\n",
       "...           ...           ...                   ...           ...\n",
       "1083    E09000033     E09000028                   8.0     -0.612246\n",
       "1084    E09000033     E09000029                  25.0     -1.619409\n",
       "1085    E09000033     E09000030                  10.0      0.073124\n",
       "1086    E09000033     E09000031                  18.0      0.751657\n",
       "1087    E09000033     E09000032                   6.0     -1.818955\n",
       "\n",
       "[1056 rows x 4 columns]"
      ]
     },
     "execution_count": 124,
     "metadata": {},
     "output_type": "execute_result"
    }
   ],
   "source": [
    "distance_ranking"
   ]
  },
  {
   "cell_type": "code",
   "execution_count": null,
   "metadata": {},
   "outputs": [],
   "source": []
  },
  {
   "cell_type": "code",
   "execution_count": null,
   "metadata": {},
   "outputs": [],
   "source": []
  },
  {
   "cell_type": "code",
   "execution_count": 97,
   "metadata": {},
   "outputs": [],
   "source": [
    "# Create an initial grid\n",
    "\n",
    "initial_scale_factor = 2\n",
    "\n",
    "full_bounds = geodata.total_bounds\n",
    "axis_ratio = (full_bounds[3]-full_bounds[1])/(full_bounds[2]-full_bounds[0])\n",
    "initial_y_length = int(np.round(initial_scale_factor*np.sqrt(len(geodata)/axis_ratio), decimals=0))\n",
    "initial_x_length = int(np.round(axis_ratio*initial_y_length))\n",
    "\n",
    "initial_grid = np.meshgrid(range(initial_x_length), range(initial_x_length))\n",
    "initial_grid_size = initial_y_length*initial_x_length"
   ]
  },
  {
   "cell_type": "code",
   "execution_count": 258,
   "metadata": {},
   "outputs": [],
   "source": [
    "# Randomly allocate codes to grid locations\n",
    "codes_list = geodata['LAD20CD'].values\n",
    "initial_coords = np.unravel_index(random.sample(range(initial_grid_size), len(codes_list)), (initial_x_length, initial_y_length))\n",
    "\n",
    "# initial_layout = np.zeros((initial_x_length, initial_y_length), dtype=object)\n",
    "\n",
    "# for code,x,y in zip(codes_list,initial_coords[0],initial_coords[1]):\n",
    "#     initial_layout[x,y] = code"
   ]
  },
  {
   "cell_type": "code",
   "execution_count": 307,
   "metadata": {},
   "outputs": [],
   "source": [
    "neighbour_distance_factor = 100\n",
    "neighbour_angle_factor = 0\n",
    "\n",
    "proximity_distance_factor = 5\n",
    "proximity_angle_factor = 0\n",
    "\n",
    "\n",
    "def generate_geodataframe(codes, coords):\n",
    "    \n",
    "    grid_pdf = pd.DataFrame({\n",
    "        'code': codes,\n",
    "        'y': coords[0],\n",
    "        'x': coords[1]\n",
    "    })\n",
    "    grid_gdf = gpd.GeoDataFrame(grid_pdf, geometry=gpd.points_from_xy(grid_pdf['x'], grid_pdf['y']))\n",
    "    grid_gdf.crs = 'epsg:27700'\n",
    "    \n",
    "    return grid_gdf[['code', 'geometry']]\n",
    "\n",
    "\n",
    "def angle_difference(angle1, angle2):\n",
    "    d = angle2-angle1\n",
    "    d = d+(2*np.pi) if d < -np.pi else d\n",
    "    d = d-(2*np.pi) if d > np.pi else d\n",
    "    return d\n",
    "\n",
    "\n",
    "def get_metric(it_gdf):\n",
    "    \n",
    "    # Find the distances and angles to all the neighbours\n",
    "    it_neighbours = it_gdf.merge(neighbours, left_on='code', right_on='LAD20CD_left')\n",
    "    it_neighbours = it_neighbours.merge(it_gdf, left_on='LAD20CD_right', right_on='code', suffixes=('', '_r'))\n",
    "    it_neighbours = it_neighbours[['code', 'geometry', 'code_r', 'geometry_r', 'target_angle']]\n",
    "\n",
    "    it_neighbours['distance'] = it_neighbours.apply(lambda row: row['geometry'].distance(row['geometry_r']), axis=1)\n",
    "    it_neighbours['angle'] = it_neighbours.apply(lambda row: angle_between(row['geometry'], row['geometry_r']), axis=1)\n",
    "    it_neighbours['angle_diff'] = it_neighbours.apply(lambda row: angle_difference(row['angle'], row['target_angle']), axis=1)\n",
    "\n",
    "    # Define the neighbour metric\n",
    "    it_neighbours['neighbour_metric'] = it_neighbours.apply(lambda row: (neighbour_distance_factor*row['distance']**2)+(neighbour_angle_factor*row['angle_diff']**2), axis=1)\n",
    "    neighbour_metric = it_neighbours.groupby('code')['neighbour_metric'].sum().reset_index()\n",
    "    it_gdf = it_gdf.merge(neighbour_metric, on='code', how='left')\n",
    "    \n",
    "    \n",
    "    # Define the proximity metric\n",
    "    it_prox = it_gdf.merge(distance_ranking, left_on='code', right_on='LAD20CD_left')\n",
    "    it_prox = it_prox.merge(it_gdf, left_on='LAD20CD_right', right_on='code', suffixes=('', '_r'))\n",
    "    it_prox = it_prox[['code', 'geometry', 'code_r', 'geometry_r', 'target_distance_rank', 'target_angle']]\n",
    "    \n",
    "    it_prox['distance'] = it_prox.apply(lambda row: row['geometry'].distance(row['geometry_r']), axis=1)\n",
    "    it_prox['distance_rank'] = it_prox.groupby('code')['distance'].rank()\n",
    "    it_prox['distance_rank_difference'] = it_prox['distance_rank']-it_prox['target_distance_rank']\n",
    "    it_prox['angle'] = it_prox.apply(lambda row: angle_between(row['geometry'], row['geometry_r']), axis=1)\n",
    "    it_prox['angle_diff'] = it_prox.apply(lambda row: angle_difference(row['angle'], row['target_angle']), axis=1)\n",
    "    \n",
    "    it_prox['proximity_metric'] = it_prox.apply(lambda row: (proximity_distance_factor*row['distance_rank_difference']**2)+(proximity_angle_factor*row['angle_diff']**2), axis=1)\n",
    "    proximity_metric = it_prox.groupby('code')['proximity_metric'].sum().reset_index()\n",
    "    it_gdf = it_gdf.merge(proximity_metric, on='code', how='left')\n",
    "    \n",
    "    it_gdf['metric'] = it_gdf['neighbour_metric']+it_gdf['proximity_metric']\n",
    "    return it_gdf\n",
    "\n",
    "\n",
    "def find_it_gdf(codes_list, coords):\n",
    "    it_gdf = generate_geodataframe(codes_list, coords)\n",
    "    return get_metric(it_gdf)\n",
    "\n",
    "def do_swaps(gdf, max_metric):\n",
    "    \n",
    "#     max_metric = gdf[gdf['metric']==gdf['metric'].max()]\n",
    "    \n",
    "    original_loc = max_metric['geometry'].values[0]\n",
    "    original_x, original_y = original_loc.xy\n",
    "    \n",
    "    directions = []\n",
    "    metrics = []\n",
    "    new_dfs = []\n",
    "    \n",
    "    for x_shift, EW in zip([-1,0,1], ['W', 'C', 'E']):\n",
    "        for y_shift, NS in zip([-1,0,1], ['S', 'C', 'N']):\n",
    "            directions.append(NS+EW)\n",
    "            new_loc = Point((original_x[0]+x_shift, original_y[0]+y_shift))\n",
    "            \n",
    "            new_df = copy.copy(gdf)\n",
    "            new_df.loc[(gdf['geometry']==new_loc), 'geometry'] = original_loc\n",
    "            new_df.loc[(gdf['metric']==gdf['metric'].max()), 'geometry'] = new_loc\n",
    "            \n",
    "            new_df = get_metric(new_df[['code', 'geometry']])\n",
    "            new_dfs.append(new_df)\n",
    "            metrics.append(new_df['metric'].sum())\n",
    "\n",
    "    dir_to_use = directions[np.argmin(metrics)]    \n",
    "    return dir_to_use, new_dfs[np.argmin(metrics)]\n",
    "\n",
    "\n",
    "def do_iteration(gdf):\n",
    "    \n",
    "    # THIS IS WHERE I'M WORKING\n",
    "    # I need to run do_swaps on the dataframe.\n",
    "    # If there's no change (i.e. d==\"CC\") then I need to set that row's is_tested to True and run do_swaps again.\n",
    "    # If I can keep running do_swaps until there's nothing left that can be swapped, we stop.\n",
    "    \n",
    "    \n",
    "    gdf['is_tested'] = [False]*len(gdf)\n",
    "    \n",
    "    all_tested = False    \n",
    "    iterate = True\n",
    "    \n",
    "    old_gdf = gdf\n",
    "    while iterate:    \n",
    "        max_metric = old_gdf.loc[(old_gdf['is_tested']==False), 'metric'].max()\n",
    "        row_to_test = old_gdf.loc[old_gdf['metric']==max_metric]\n",
    "        d, new_gdf = do_swaps(old_gdf, row_to_test)\n",
    "        \n",
    "        \n",
    "        if (d != 'CC') & ()\n",
    "        \n",
    "        if d == \"CC\":\n",
    "            old_gdf.loc[(old_gdf['metric']==max_metric), 'is_tested'] = True\n",
    "            num_tested = old_gdf['is_tested'].sum()\n",
    "            all_tested = True if num_tested == len(old_gdf) else False\n",
    "        else:\n",
    "            iterate = False\n",
    "            old_gdf = new_gdf\n",
    "            \n",
    "    return all_tested, new_gdf"
   ]
  },
  {
   "cell_type": "code",
   "execution_count": 308,
   "metadata": {},
   "outputs": [],
   "source": [
    "initial_gdf = find_it_gdf(codes_list, initial_coords)\n",
    "d, new_df = do_iteration(initial_gdf)\n",
    "# s = do_swaps(initial_gdf)\n",
    "# [s[c].xy for c in s.keys()]\n",
    "# do_swaps(initial_gdf)['CC'].plot(column='metric')\n",
    "# do_swaps(initial_gdf)['SW'].plot(column='metric')"
   ]
  },
  {
   "cell_type": "code",
   "execution_count": 306,
   "metadata": {},
   "outputs": [],
   "source": [
    "gdf = initial_gdf\n",
    "gdf['is_tested'] = [False]*len(gdf)    \n",
    "all_tested = False    \n",
    "iterate = True\n",
    "old_gdf = gdf\n",
    "\n",
    "while iterate:    \n",
    "        max_metric = old_gdf.loc[(old_gdf['is_tested']==False), 'metric'].max()\n",
    "        row_to_test = old_gdf.loc[old_gdf['metric']==max_metric]\n",
    "        d, new_gdf = do_swaps(old_gdf, row_to_test)\n",
    "        \n",
    "        if d == \"CC\":\n",
    "            old_gdf.loc[(old_gdf['metric']==max_metric), 'is_tested'] = True\n",
    "            num_tested = old_gdf['is_tested'].sum()\n",
    "            iterate = False if num_tested == len(old_gdf) else True\n",
    "            all_tested = True if num_tested == len(old_gdf) else False\n",
    "        else:\n",
    "            iterate = False"
   ]
  },
  {
   "cell_type": "code",
   "execution_count": 305,
   "metadata": {
    "scrolled": false
   },
   "outputs": [
    {
     "data": {
      "image/png": "[encoded data removed]",
      "text/plain": [
       "<Figure size 432x288 with 1 Axes>"
      ]
     },
     "metadata": {
      "needs_background": "light"
     },
     "output_type": "display_data"
    }
   ],
   "source": [
    "c = 'y'\n",
    "old_df = initial_gdf\n",
    "while c == 'y':\n",
    "    d, new_df = do_iteration(old_df)\n",
    "    new_df.plot(column='metric')\n",
    "    plt.show()\n",
    "    \n",
    "    c = 'y' if d == True else 'n'\n",
    "    \n",
    "    old_df = new_df\n",
    "    \n",
    "    "
   ]
  },
  {
   "cell_type": "code",
   "execution_count": 291,
   "metadata": {},
   "outputs": [
    {
     "data": {
      "text/plain": [
       "<AxesSubplot:>"
      ]
     },
     "execution_count": 291,
     "metadata": {},
     "output_type": "execute_result"
    },
    {
     "data": {
      "image/png": "[encoded data removed]",
      "text/plain": [
       "<Figure size 432x288 with 1 Axes>"
      ]
     },
     "metadata": {
      "needs_background": "light"
     },
     "output_type": "display_data"
    }
   ],
   "source": [
    "new_df.plot(column='code')"
   ]
  },
  {
   "cell_type": "code",
   "execution_count": 284,
   "metadata": {},
   "outputs": [
    {
     "data": {
      "text/plain": [
       "<AxesSubplot:>"
      ]
     },
     "execution_count": 284,
     "metadata": {},
     "output_type": "execute_result"
    },
    {
     "data": {
      "image/png": "[encoded data removed]",
      "text/plain": [
       "<Figure size 432x288 with 1 Axes>"
      ]
     },
     "metadata": {
      "needs_background": "light"
     },
     "output_type": "display_data"
    }
   ],
   "source": [
    "new_df.plot(column='code')"
   ]
  },
  {
   "cell_type": "code",
   "execution_count": 279,
   "metadata": {},
   "outputs": [
    {
     "data": {
      "text/plain": [
       "<AxesSubplot:>"
      ]
     },
     "execution_count": 279,
     "metadata": {},
     "output_type": "execute_result"
    },
    {
     "data": {
      "image/png": "[encoded data removed]",
      "text/plain": [
       "<Figure size 432x288 with 1 Axes>"
      ]
     },
     "metadata": {
      "needs_background": "light"
     },
     "output_type": "display_data"
    }
   ],
   "source": [
    "geodata.plot(column='LAD20CD')"
   ]
  }
 ],
 "metadata": {
  "kernelspec": {
   "display_name": "Python 3 (ipykernel)",
   "language": "python",
   "name": "python3"
  },
  "language_info": {
   "codemirror_mode": {
    "name": "ipython",
    "version": 3
   },
   "file_extension": ".py",
   "mimetype": "text/x-python",
   "name": "python",
   "nbconvert_exporter": "python",
   "pygments_lexer": "ipython3",
   "version": "3.10.4"
  }
 },
 "nbformat": 4,
 "nbformat_minor": 4
}
