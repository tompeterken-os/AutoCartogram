{
 "cells": [
  {
   "cell_type": "code",
   "execution_count": 1,
   "id": "bfc95ebf",
   "metadata": {},
   "outputs": [],
   "source": [
    "from autocartogram import characterising as ac\n",
    "import geopandas as gpd\n",
    "import matplotlib.pyplot as plt\n",
    "import copy"
   ]
  },
  {
   "cell_type": "code",
   "execution_count": 2,
   "id": "003a9fbf",
   "metadata": {},
   "outputs": [],
   "source": [
    "gdf = gpd.read_file('./Data/LADs.geojson').to_crs('epsg:27700')\n",
    "gdf = gdf[['W' in c for c in gdf['LAD20CD']]]"
   ]
  },
  {
   "cell_type": "code",
   "execution_count": 3,
   "id": "1db08cd6",
   "metadata": {},
   "outputs": [
    {
     "data": {
      "text/html": [
       "<div>\n",
       "<style scoped>\n",
       "    .dataframe tbody tr th:only-of-type {\n",
       "        vertical-align: middle;\n",
       "    }\n",
       "\n",
       "    .dataframe tbody tr th {\n",
       "        vertical-align: top;\n",
       "    }\n",
       "\n",
       "    .dataframe thead th {\n",
       "        text-align: right;\n",
       "    }\n",
       "</style>\n",
       "<table border=\"1\" class=\"dataframe\">\n",
       "  <thead>\n",
       "    <tr style=\"text-align: right;\">\n",
       "      <th></th>\n",
       "      <th>OBJECTID</th>\n",
       "      <th>LAD20CD</th>\n",
       "      <th>LAD20NM</th>\n",
       "      <th>LAD20NMW</th>\n",
       "      <th>BNG_E</th>\n",
       "      <th>BNG_N</th>\n",
       "      <th>LONG</th>\n",
       "      <th>LAT</th>\n",
       "      <th>Shape__Area</th>\n",
       "      <th>Shape__Length</th>\n",
       "      <th>geometry</th>\n",
       "    </tr>\n",
       "  </thead>\n",
       "  <tbody>\n",
       "    <tr>\n",
       "      <th>357</th>\n",
       "      <td>358</td>\n",
       "      <td>W06000001</td>\n",
       "      <td>Isle of Anglesey</td>\n",
       "      <td>Ynys Môn</td>\n",
       "      <td>245217</td>\n",
       "      <td>378331</td>\n",
       "      <td>-4.32298</td>\n",
       "      <td>53.279308</td>\n",
       "      <td>7.152314e+08</td>\n",
       "      <td>178589.246642</td>\n",
       "      <td>POLYGON ((240000.004 394577.908, 240445.514 39...</td>\n",
       "    </tr>\n",
       "    <tr>\n",
       "      <th>358</th>\n",
       "      <td>359</td>\n",
       "      <td>W06000002</td>\n",
       "      <td>Gwynedd</td>\n",
       "      <td>Gwynedd</td>\n",
       "      <td>280555</td>\n",
       "      <td>334966</td>\n",
       "      <td>-3.77715</td>\n",
       "      <td>52.898830</td>\n",
       "      <td>2.553444e+09</td>\n",
       "      <td>411970.884879</td>\n",
       "      <td>MULTIPOLYGON (((267978.708 372366.304, 270868....</td>\n",
       "    </tr>\n",
       "    <tr>\n",
       "      <th>359</th>\n",
       "      <td>360</td>\n",
       "      <td>W06000003</td>\n",
       "      <td>Conwy</td>\n",
       "      <td>Conwy</td>\n",
       "      <td>283293</td>\n",
       "      <td>362563</td>\n",
       "      <td>-3.74646</td>\n",
       "      <td>53.147388</td>\n",
       "      <td>1.137242e+09</td>\n",
       "      <td>196263.774907</td>\n",
       "      <td>POLYGON ((299724.870 380889.607, 300371.113 37...</td>\n",
       "    </tr>\n",
       "    <tr>\n",
       "      <th>360</th>\n",
       "      <td>361</td>\n",
       "      <td>W06000004</td>\n",
       "      <td>Denbighshire</td>\n",
       "      <td>Sir Ddinbych</td>\n",
       "      <td>309843</td>\n",
       "      <td>355416</td>\n",
       "      <td>-3.34761</td>\n",
       "      <td>53.088329</td>\n",
       "      <td>8.342354e+08</td>\n",
       "      <td>188272.099610</td>\n",
       "      <td>POLYGON ((324414.214 353387.707, 323145.711 35...</td>\n",
       "    </tr>\n",
       "    <tr>\n",
       "      <th>361</th>\n",
       "      <td>362</td>\n",
       "      <td>W06000005</td>\n",
       "      <td>Flintshire</td>\n",
       "      <td>Sir y Fflint</td>\n",
       "      <td>321134</td>\n",
       "      <td>369280</td>\n",
       "      <td>-3.18248</td>\n",
       "      <td>53.214710</td>\n",
       "      <td>4.339776e+08</td>\n",
       "      <td>129153.461334</td>\n",
       "      <td>MULTIPOLYGON (((313293.515 382786.601, 315287....</td>\n",
       "    </tr>\n",
       "  </tbody>\n",
       "</table>\n",
       "</div>"
      ],
      "text/plain": [
       "     OBJECTID    LAD20CD           LAD20NM      LAD20NMW   BNG_E   BNG_N  \\\n",
       "357       358  W06000001  Isle of Anglesey      Ynys Môn  245217  378331   \n",
       "358       359  W06000002           Gwynedd       Gwynedd  280555  334966   \n",
       "359       360  W06000003             Conwy         Conwy  283293  362563   \n",
       "360       361  W06000004      Denbighshire  Sir Ddinbych  309843  355416   \n",
       "361       362  W06000005        Flintshire  Sir y Fflint  321134  369280   \n",
       "\n",
       "        LONG        LAT   Shape__Area  Shape__Length  \\\n",
       "357 -4.32298  53.279308  7.152314e+08  178589.246642   \n",
       "358 -3.77715  52.898830  2.553444e+09  411970.884879   \n",
       "359 -3.74646  53.147388  1.137242e+09  196263.774907   \n",
       "360 -3.34761  53.088329  8.342354e+08  188272.099610   \n",
       "361 -3.18248  53.214710  4.339776e+08  129153.461334   \n",
       "\n",
       "                                              geometry  \n",
       "357  POLYGON ((240000.004 394577.908, 240445.514 39...  \n",
       "358  MULTIPOLYGON (((267978.708 372366.304, 270868....  \n",
       "359  POLYGON ((299724.870 380889.607, 300371.113 37...  \n",
       "360  POLYGON ((324414.214 353387.707, 323145.711 35...  \n",
       "361  MULTIPOLYGON (((313293.515 382786.601, 315287....  "
      ]
     },
     "execution_count": 3,
     "metadata": {},
     "output_type": "execute_result"
    }
   ],
   "source": [
    "gdf.head()"
   ]
  },
  {
   "cell_type": "code",
   "execution_count": 4,
   "id": "8b50b8f7",
   "metadata": {},
   "outputs": [],
   "source": [
    "inf = ac.Input_File(gdf, 'LAD20CD', 'LAD20NM')"
   ]
  },
  {
   "cell_type": "code",
   "execution_count": 5,
   "id": "ea098249",
   "metadata": {},
   "outputs": [
    {
     "data": {
      "text/html": [
       "<div>\n",
       "<style scoped>\n",
       "    .dataframe tbody tr th:only-of-type {\n",
       "        vertical-align: middle;\n",
       "    }\n",
       "\n",
       "    .dataframe tbody tr th {\n",
       "        vertical-align: top;\n",
       "    }\n",
       "\n",
       "    .dataframe thead th {\n",
       "        text-align: right;\n",
       "    }\n",
       "</style>\n",
       "<table border=\"1\" class=\"dataframe\">\n",
       "  <thead>\n",
       "    <tr style=\"text-align: right;\">\n",
       "      <th></th>\n",
       "      <th>LAD20CD</th>\n",
       "      <th>LAD20NM</th>\n",
       "      <th>geometry</th>\n",
       "      <th>__dummy__</th>\n",
       "      <th>__centroid__</th>\n",
       "    </tr>\n",
       "  </thead>\n",
       "  <tbody>\n",
       "    <tr>\n",
       "      <th>357</th>\n",
       "      <td>W06000001</td>\n",
       "      <td>Isle of Anglesey</td>\n",
       "      <td>POLYGON ((240000.004 394577.908, 240445.514 39...</td>\n",
       "      <td>1</td>\n",
       "      <td>POINT (241835.228 379233.676)</td>\n",
       "    </tr>\n",
       "    <tr>\n",
       "      <th>358</th>\n",
       "      <td>W06000002</td>\n",
       "      <td>Gwynedd</td>\n",
       "      <td>MULTIPOLYGON (((267978.708 372366.304, 270868....</td>\n",
       "      <td>1</td>\n",
       "      <td>POINT (264136.399 334667.737)</td>\n",
       "    </tr>\n",
       "    <tr>\n",
       "      <th>359</th>\n",
       "      <td>W06000003</td>\n",
       "      <td>Conwy</td>\n",
       "      <td>POLYGON ((299724.870 380889.607, 300371.113 37...</td>\n",
       "      <td>1</td>\n",
       "      <td>POINT (284072.324 361552.108)</td>\n",
       "    </tr>\n",
       "    <tr>\n",
       "      <th>360</th>\n",
       "      <td>W06000004</td>\n",
       "      <td>Denbighshire</td>\n",
       "      <td>POLYGON ((324414.214 353387.707, 323145.711 35...</td>\n",
       "      <td>1</td>\n",
       "      <td>POINT (309507.880 355562.623)</td>\n",
       "    </tr>\n",
       "    <tr>\n",
       "      <th>361</th>\n",
       "      <td>W06000005</td>\n",
       "      <td>Flintshire</td>\n",
       "      <td>MULTIPOLYGON (((313293.515 382786.601, 315287....</td>\n",
       "      <td>1</td>\n",
       "      <td>POINT (322547.437 368615.133)</td>\n",
       "    </tr>\n",
       "  </tbody>\n",
       "</table>\n",
       "</div>"
      ],
      "text/plain": [
       "       LAD20CD           LAD20NM  \\\n",
       "357  W06000001  Isle of Anglesey   \n",
       "358  W06000002           Gwynedd   \n",
       "359  W06000003             Conwy   \n",
       "360  W06000004      Denbighshire   \n",
       "361  W06000005        Flintshire   \n",
       "\n",
       "                                              geometry  __dummy__  \\\n",
       "357  POLYGON ((240000.004 394577.908, 240445.514 39...          1   \n",
       "358  MULTIPOLYGON (((267978.708 372366.304, 270868....          1   \n",
       "359  POLYGON ((299724.870 380889.607, 300371.113 37...          1   \n",
       "360  POLYGON ((324414.214 353387.707, 323145.711 35...          1   \n",
       "361  MULTIPOLYGON (((313293.515 382786.601, 315287....          1   \n",
       "\n",
       "                      __centroid__  \n",
       "357  POINT (241835.228 379233.676)  \n",
       "358  POINT (264136.399 334667.737)  \n",
       "359  POINT (284072.324 361552.108)  \n",
       "360  POINT (309507.880 355562.623)  \n",
       "361  POINT (322547.437 368615.133)  "
      ]
     },
     "execution_count": 5,
     "metadata": {},
     "output_type": "execute_result"
    }
   ],
   "source": [
    "inf.geodata.head()"
   ]
  },
  {
   "cell_type": "code",
   "execution_count": 6,
   "id": "fbb1f73d",
   "metadata": {},
   "outputs": [
    {
     "name": "stderr",
     "output_type": "stream",
     "text": [
      "/home/tpeterken/anaconda3/envs/AutoCartogram/lib/python3.10/site-packages/pandas/core/dtypes/inference.py:383: ShapelyDeprecationWarning: Iteration over multi-part geometries is deprecated and will be removed in Shapely 2.0. Use the `geoms` property to access the constituent parts of a multi-part geometry.\n",
      "  iter(obj)  # Can iterate over it.\n",
      "/home/tpeterken/anaconda3/envs/AutoCartogram/lib/python3.10/site-packages/pandas/core/dtypes/inference.py:384: ShapelyDeprecationWarning: __len__ for multi-part geometries is deprecated and will be removed in Shapely 2.0. Check the length of the `geoms` property instead to get the  number of parts of a multi-part geometry.\n",
      "  len(obj)  # Has a length associated with it.\n",
      "/home/tpeterken/anaconda3/envs/AutoCartogram/lib/python3.10/site-packages/pandas/core/dtypes/cast.py:1981: ShapelyDeprecationWarning: __len__ for multi-part geometries is deprecated and will be removed in Shapely 2.0. Check the length of the `geoms` property instead to get the  number of parts of a multi-part geometry.\n",
      "  result[:] = values\n",
      "/home/tpeterken/anaconda3/envs/AutoCartogram/lib/python3.10/site-packages/pandas/core/dtypes/cast.py:122: ShapelyDeprecationWarning: The array interface is deprecated and will no longer work in Shapely 2.0. Convert the '.coords' to a numpy array instead.\n",
      "  arr = construct_1d_object_array_from_listlike(values)\n"
     ]
    },
    {
     "data": {
      "text/plain": [
       "<matplotlib.image.AxesImage at 0x7fb82062fdf0>"
      ]
     },
     "execution_count": 6,
     "metadata": {},
     "output_type": "execute_result"
    },
    {
     "data": {
      "image/png": "[encoded data removed]",
      "text/plain": [
       "<Figure size 432x288 with 1 Axes>"
      ]
     },
     "metadata": {
      "needs_background": "light"
     },
     "output_type": "display_data"
    }
   ],
   "source": [
    "plt.imshow(inf.neighbours_array(use_fractional_borders=True))"
   ]
  },
  {
   "cell_type": "code",
   "execution_count": 7,
   "id": "9ae7bba8",
   "metadata": {},
   "outputs": [
    {
     "data": {
      "text/plain": [
       "[<matplotlib.lines.Line2D at 0x7fb7a77782e0>]"
      ]
     },
     "execution_count": 7,
     "metadata": {},
     "output_type": "execute_result"
    },
    {
     "data": {
      "image/png": "[encoded data removed]",
      "text/plain": [
       "<Figure size 432x288 with 1 Axes>"
      ]
     },
     "metadata": {
      "needs_background": "light"
     },
     "output_type": "display_data"
    }
   ],
   "source": [
    "plt.plot(inf.coastline_array())"
   ]
  },
  {
   "cell_type": "code",
   "execution_count": 8,
   "id": "c510e2f8",
   "metadata": {},
   "outputs": [
    {
     "data": {
      "text/plain": [
       "<matplotlib.image.AxesImage at 0x7fb7a77f0460>"
      ]
     },
     "execution_count": 8,
     "metadata": {},
     "output_type": "execute_result"
    },
    {
     "data": {
      "image/png": "[encoded data removed]",
      "text/plain": [
       "<Figure size 432x288 with 1 Axes>"
      ]
     },
     "metadata": {
      "needs_background": "light"
     },
     "output_type": "display_data"
    }
   ],
   "source": [
    "plt.imshow(inf.distance_array())"
   ]
  },
  {
   "cell_type": "code",
   "execution_count": 9,
   "id": "be1ae46b",
   "metadata": {},
   "outputs": [
    {
     "data": {
      "text/plain": [
       "[<matplotlib.lines.Line2D at 0x7fb7a7669900>]"
      ]
     },
     "execution_count": 9,
     "metadata": {},
     "output_type": "execute_result"
    },
    {
     "data": {
      "image/png": "[encoded data removed]",
      "text/plain": [
       "<Figure size 432x288 with 1 Axes>"
      ]
     },
     "metadata": {
      "needs_background": "light"
     },
     "output_type": "display_data"
    }
   ],
   "source": [
    "plt.plot(inf.orientation_arrays()[0])\n",
    "plt.plot(inf.orientation_arrays()[1])"
   ]
  }
 ],
 "metadata": {
  "kernelspec": {
   "display_name": "Python 3 (ipykernel)",
   "language": "python",
   "name": "python3"
  },
  "language_info": {
   "codemirror_mode": {
    "name": "ipython",
    "version": 3
   },
   "file_extension": ".py",
   "mimetype": "text/x-python",
   "name": "python",
   "nbconvert_exporter": "python",
   "pygments_lexer": "ipython3",
   "version": "3.10.4"
  }
 },
 "nbformat": 4,
 "nbformat_minor": 5
}
