{
 "cells": [
  {
   "cell_type": "code",
   "execution_count": 1,
   "id": "d3e4f534",
   "metadata": {},
   "outputs": [],
   "source": [
    "import geopandas as gpd\n",
    "import pandas as pd\n",
    "import numpy as np\n",
    "import matplotlib.pyplot as plt\n",
    "# import random\n",
    "# from shapely.geometry import Point\n",
    "import copy\n",
    "import time\n",
    "import bisect\n",
    "from scipy.stats import rankdata\n",
    "from scipy import optimize as opt"
   ]
  },
  {
   "cell_type": "code",
   "execution_count": null,
   "id": "2c74c2f7",
   "metadata": {},
   "outputs": [],
   "source": [
    "# NOTES\n",
    "# Distance ranking: make sure in the grid view that equal distances give equal ranking\n",
    " # (Same for orientation rankings)"
   ]
  },
  {
   "cell_type": "code",
   "execution_count": 330,
   "id": "c2514ead",
   "metadata": {},
   "outputs": [],
   "source": [
    "geodata = gpd.read_file('./Data/LADs.geojson').to_crs('epsg:27700')\n",
    "# geodata = geodata[['E09' in c for c in geodata['LAD20CD']]][['LAD20CD', 'LAD20NM', 'geometry']]\n",
    "geodata = geodata[['W' in c for c in geodata['LAD20CD']]][['LAD20CD', 'LAD20NM', 'geometry']]\n",
    "geodata['dummy'] = geodata['geometry'].apply(lambda g: 1)\n",
    "geodata['centroid'] = geodata.centroid\n",
    "\n",
    "geo_list = geodata['LAD20CD'].values # Definitive list with definitive order of geometry codes\n",
    "name_list = geodata['LAD20NM'].values\n",
    "\n",
    "geo_to_index_lookup = {}\n",
    "geo_to_name_lookup = {}\n",
    "index_to_geo_lookup = {}\n",
    "index_to_name_lookup = {}\n",
    "for num, g, name in zip(range(len(geo_list)), geo_list, name_list):\n",
    "    geo_to_index_lookup[g] = num\n",
    "    geo_to_name_lookup[g] = name\n",
    "    index_to_geo_lookup[num] = g\n",
    "    index_to_name_lookup[num] = name"
   ]
  },
  {
   "cell_type": "code",
   "execution_count": 331,
   "id": "c6b1c149",
   "metadata": {},
   "outputs": [
    {
     "data": {
      "text/plain": [
       "<AxesSubplot:>"
      ]
     },
     "execution_count": 331,
     "metadata": {},
     "output_type": "execute_result"
    },
    {
     "data": {
      "image/png": "[encoded data removed]",
      "text/plain": [
       "<Figure size 432x288 with 1 Axes>"
      ]
     },
     "metadata": {
      "needs_background": "light"
     },
     "output_type": "display_data"
    }
   ],
   "source": [
    "geodata.plot()"
   ]
  },
  {
   "cell_type": "code",
   "execution_count": 332,
   "id": "dcc2dc7c",
   "metadata": {},
   "outputs": [
    {
     "data": {
      "text/html": [
       "<div>\n",
       "<style scoped>\n",
       "    .dataframe tbody tr th:only-of-type {\n",
       "        vertical-align: middle;\n",
       "    }\n",
       "\n",
       "    .dataframe tbody tr th {\n",
       "        vertical-align: top;\n",
       "    }\n",
       "\n",
       "    .dataframe thead th {\n",
       "        text-align: right;\n",
       "    }\n",
       "</style>\n",
       "<table border=\"1\" class=\"dataframe\">\n",
       "  <thead>\n",
       "    <tr style=\"text-align: right;\">\n",
       "      <th></th>\n",
       "      <th>LAD20CD</th>\n",
       "      <th>LAD20NM</th>\n",
       "      <th>geometry</th>\n",
       "      <th>dummy</th>\n",
       "      <th>centroid</th>\n",
       "    </tr>\n",
       "  </thead>\n",
       "  <tbody>\n",
       "    <tr>\n",
       "      <th>357</th>\n",
       "      <td>W06000001</td>\n",
       "      <td>Isle of Anglesey</td>\n",
       "      <td>POLYGON ((240000.004 394577.908, 240445.514 39...</td>\n",
       "      <td>1</td>\n",
       "      <td>POINT (241835.228 379233.676)</td>\n",
       "    </tr>\n",
       "    <tr>\n",
       "      <th>358</th>\n",
       "      <td>W06000002</td>\n",
       "      <td>Gwynedd</td>\n",
       "      <td>MULTIPOLYGON (((267978.708 372366.304, 270868....</td>\n",
       "      <td>1</td>\n",
       "      <td>POINT (264136.399 334667.737)</td>\n",
       "    </tr>\n",
       "    <tr>\n",
       "      <th>359</th>\n",
       "      <td>W06000003</td>\n",
       "      <td>Conwy</td>\n",
       "      <td>POLYGON ((299724.870 380889.607, 300371.113 37...</td>\n",
       "      <td>1</td>\n",
       "      <td>POINT (284072.324 361552.108)</td>\n",
       "    </tr>\n",
       "    <tr>\n",
       "      <th>360</th>\n",
       "      <td>W06000004</td>\n",
       "      <td>Denbighshire</td>\n",
       "      <td>POLYGON ((324414.214 353387.707, 323145.711 35...</td>\n",
       "      <td>1</td>\n",
       "      <td>POINT (309507.880 355562.623)</td>\n",
       "    </tr>\n",
       "    <tr>\n",
       "      <th>361</th>\n",
       "      <td>W06000005</td>\n",
       "      <td>Flintshire</td>\n",
       "      <td>MULTIPOLYGON (((313293.515 382786.601, 315287....</td>\n",
       "      <td>1</td>\n",
       "      <td>POINT (322547.437 368615.133)</td>\n",
       "    </tr>\n",
       "    <tr>\n",
       "      <th>362</th>\n",
       "      <td>W06000006</td>\n",
       "      <td>Wrexham</td>\n",
       "      <td>POLYGON ((351298.712 343127.004, 350716.010 34...</td>\n",
       "      <td>1</td>\n",
       "      <td>POINT (331695.185 344175.768)</td>\n",
       "    </tr>\n",
       "    <tr>\n",
       "      <th>363</th>\n",
       "      <td>W06000008</td>\n",
       "      <td>Ceredigion</td>\n",
       "      <td>POLYGON ((279749.210 249226.602, 277768.013 24...</td>\n",
       "      <td>1</td>\n",
       "      <td>POINT (258559.569 263733.729)</td>\n",
       "    </tr>\n",
       "    <tr>\n",
       "      <th>364</th>\n",
       "      <td>W06000009</td>\n",
       "      <td>Pembrokeshire</td>\n",
       "      <td>MULTIPOLYGON (((216364.016 243983.404, 217396....</td>\n",
       "      <td>1</td>\n",
       "      <td>POINT (201337.424 221180.436)</td>\n",
       "    </tr>\n",
       "    <tr>\n",
       "      <th>365</th>\n",
       "      <td>W06000010</td>\n",
       "      <td>Carmarthenshire</td>\n",
       "      <td>POLYGON ((279749.210 249226.602, 282307.116 24...</td>\n",
       "      <td>1</td>\n",
       "      <td>POINT (251556.904 225139.754)</td>\n",
       "    </tr>\n",
       "    <tr>\n",
       "      <th>366</th>\n",
       "      <td>W06000011</td>\n",
       "      <td>Swansea</td>\n",
       "      <td>MULTIPOLYGON (((262123.115 210278.302, 264479....</td>\n",
       "      <td>1</td>\n",
       "      <td>POINT (258170.595 195828.191)</td>\n",
       "    </tr>\n",
       "    <tr>\n",
       "      <th>367</th>\n",
       "      <td>W06000012</td>\n",
       "      <td>Neath Port Talbot</td>\n",
       "      <td>POLYGON ((275483.512 211465.301, 277901.616 20...</td>\n",
       "      <td>1</td>\n",
       "      <td>POINT (279710.728 199475.964)</td>\n",
       "    </tr>\n",
       "    <tr>\n",
       "      <th>368</th>\n",
       "      <td>W06000013</td>\n",
       "      <td>Bridgend</td>\n",
       "      <td>POLYGON ((296179.514 180365.102, 293926.115 17...</td>\n",
       "      <td>1</td>\n",
       "      <td>POINT (289261.086 185303.662)</td>\n",
       "    </tr>\n",
       "    <tr>\n",
       "      <th>369</th>\n",
       "      <td>W06000014</td>\n",
       "      <td>Vale of Glamorgan</td>\n",
       "      <td>MULTIPOLYGON (((302165.914 179592.505, 302783....</td>\n",
       "      <td>1</td>\n",
       "      <td>POINT (302837.916 172825.539)</td>\n",
       "    </tr>\n",
       "    <tr>\n",
       "      <th>370</th>\n",
       "      <td>W06000015</td>\n",
       "      <td>Cardiff</td>\n",
       "      <td>POLYGON ((322508.409 183565.008, 325932.914 18...</td>\n",
       "      <td>1</td>\n",
       "      <td>POINT (316429.793 179758.895)</td>\n",
       "    </tr>\n",
       "    <tr>\n",
       "      <th>371</th>\n",
       "      <td>W06000016</td>\n",
       "      <td>Rhondda Cynon Taf</td>\n",
       "      <td>POLYGON ((300546.815 214081.303, 300743.609 21...</td>\n",
       "      <td>1</td>\n",
       "      <td>POINT (300727.655 195600.211)</td>\n",
       "    </tr>\n",
       "    <tr>\n",
       "      <th>372</th>\n",
       "      <td>W06000018</td>\n",
       "      <td>Caerphilly</td>\n",
       "      <td>POLYGON ((322947.410 199706.208, 323910.210 19...</td>\n",
       "      <td>1</td>\n",
       "      <td>POINT (316772.372 195606.935)</td>\n",
       "    </tr>\n",
       "    <tr>\n",
       "      <th>373</th>\n",
       "      <td>W06000019</td>\n",
       "      <td>Blaenau Gwent</td>\n",
       "      <td>POLYGON ((320318.110 213680.006, 321092.609 21...</td>\n",
       "      <td>1</td>\n",
       "      <td>POINT (317687.889 208263.319)</td>\n",
       "    </tr>\n",
       "    <tr>\n",
       "      <th>374</th>\n",
       "      <td>W06000020</td>\n",
       "      <td>Torfaen</td>\n",
       "      <td>POLYGON ((333723.012 192653.907, 331617.809 19...</td>\n",
       "      <td>1</td>\n",
       "      <td>POINT (327271.207 200527.491)</td>\n",
       "    </tr>\n",
       "    <tr>\n",
       "      <th>375</th>\n",
       "      <td>W06000021</td>\n",
       "      <td>Monmouthshire</td>\n",
       "      <td>POLYGON ((355272.716 214366.801, 354547.712 21...</td>\n",
       "      <td>1</td>\n",
       "      <td>POINT (339908.627 207883.316)</td>\n",
       "    </tr>\n",
       "    <tr>\n",
       "      <th>376</th>\n",
       "      <td>W06000022</td>\n",
       "      <td>Newport</td>\n",
       "      <td>POLYGON ((343091.766 184213.492, 340000.004 18...</td>\n",
       "      <td>1</td>\n",
       "      <td>POINT (333160.397 187189.889)</td>\n",
       "    </tr>\n",
       "    <tr>\n",
       "      <th>377</th>\n",
       "      <td>W06000023</td>\n",
       "      <td>Powys</td>\n",
       "      <td>POLYGON ((322891.616 333139.303, 323688.509 33...</td>\n",
       "      <td>1</td>\n",
       "      <td>POINT (303988.076 270511.052)</td>\n",
       "    </tr>\n",
       "    <tr>\n",
       "      <th>378</th>\n",
       "      <td>W06000024</td>\n",
       "      <td>Merthyr Tydfil</td>\n",
       "      <td>POLYGON ((308057.316 211036.204, 308367.116 20...</td>\n",
       "      <td>1</td>\n",
       "      <td>POINT (306057.506 205651.722)</td>\n",
       "    </tr>\n",
       "  </tbody>\n",
       "</table>\n",
       "</div>"
      ],
      "text/plain": [
       "       LAD20CD            LAD20NM  \\\n",
       "357  W06000001   Isle of Anglesey   \n",
       "358  W06000002            Gwynedd   \n",
       "359  W06000003              Conwy   \n",
       "360  W06000004       Denbighshire   \n",
       "361  W06000005         Flintshire   \n",
       "362  W06000006            Wrexham   \n",
       "363  W06000008         Ceredigion   \n",
       "364  W06000009      Pembrokeshire   \n",
       "365  W06000010    Carmarthenshire   \n",
       "366  W06000011            Swansea   \n",
       "367  W06000012  Neath Port Talbot   \n",
       "368  W06000013           Bridgend   \n",
       "369  W06000014  Vale of Glamorgan   \n",
       "370  W06000015            Cardiff   \n",
       "371  W06000016  Rhondda Cynon Taf   \n",
       "372  W06000018         Caerphilly   \n",
       "373  W06000019      Blaenau Gwent   \n",
       "374  W06000020            Torfaen   \n",
       "375  W06000021      Monmouthshire   \n",
       "376  W06000022            Newport   \n",
       "377  W06000023              Powys   \n",
       "378  W06000024     Merthyr Tydfil   \n",
       "\n",
       "                                              geometry  dummy  \\\n",
       "357  POLYGON ((240000.004 394577.908, 240445.514 39...      1   \n",
       "358  MULTIPOLYGON (((267978.708 372366.304, 270868....      1   \n",
       "359  POLYGON ((299724.870 380889.607, 300371.113 37...      1   \n",
       "360  POLYGON ((324414.214 353387.707, 323145.711 35...      1   \n",
       "361  MULTIPOLYGON (((313293.515 382786.601, 315287....      1   \n",
       "362  POLYGON ((351298.712 343127.004, 350716.010 34...      1   \n",
       "363  POLYGON ((279749.210 249226.602, 277768.013 24...      1   \n",
       "364  MULTIPOLYGON (((216364.016 243983.404, 217396....      1   \n",
       "365  POLYGON ((279749.210 249226.602, 282307.116 24...      1   \n",
       "366  MULTIPOLYGON (((262123.115 210278.302, 264479....      1   \n",
       "367  POLYGON ((275483.512 211465.301, 277901.616 20...      1   \n",
       "368  POLYGON ((296179.514 180365.102, 293926.115 17...      1   \n",
       "369  MULTIPOLYGON (((302165.914 179592.505, 302783....      1   \n",
       "370  POLYGON ((322508.409 183565.008, 325932.914 18...      1   \n",
       "371  POLYGON ((300546.815 214081.303, 300743.609 21...      1   \n",
       "372  POLYGON ((322947.410 199706.208, 323910.210 19...      1   \n",
       "373  POLYGON ((320318.110 213680.006, 321092.609 21...      1   \n",
       "374  POLYGON ((333723.012 192653.907, 331617.809 19...      1   \n",
       "375  POLYGON ((355272.716 214366.801, 354547.712 21...      1   \n",
       "376  POLYGON ((343091.766 184213.492, 340000.004 18...      1   \n",
       "377  POLYGON ((322891.616 333139.303, 323688.509 33...      1   \n",
       "378  POLYGON ((308057.316 211036.204, 308367.116 20...      1   \n",
       "\n",
       "                          centroid  \n",
       "357  POINT (241835.228 379233.676)  \n",
       "358  POINT (264136.399 334667.737)  \n",
       "359  POINT (284072.324 361552.108)  \n",
       "360  POINT (309507.880 355562.623)  \n",
       "361  POINT (322547.437 368615.133)  \n",
       "362  POINT (331695.185 344175.768)  \n",
       "363  POINT (258559.569 263733.729)  \n",
       "364  POINT (201337.424 221180.436)  \n",
       "365  POINT (251556.904 225139.754)  \n",
       "366  POINT (258170.595 195828.191)  \n",
       "367  POINT (279710.728 199475.964)  \n",
       "368  POINT (289261.086 185303.662)  \n",
       "369  POINT (302837.916 172825.539)  \n",
       "370  POINT (316429.793 179758.895)  \n",
       "371  POINT (300727.655 195600.211)  \n",
       "372  POINT (316772.372 195606.935)  \n",
       "373  POINT (317687.889 208263.319)  \n",
       "374  POINT (327271.207 200527.491)  \n",
       "375  POINT (339908.627 207883.316)  \n",
       "376  POINT (333160.397 187189.889)  \n",
       "377  POINT (303988.076 270511.052)  \n",
       "378  POINT (306057.506 205651.722)  "
      ]
     },
     "execution_count": 332,
     "metadata": {},
     "output_type": "execute_result"
    }
   ],
   "source": [
    "geodata"
   ]
  },
  {
   "cell_type": "code",
   "execution_count": 333,
   "id": "576338c3",
   "metadata": {},
   "outputs": [
    {
     "name": "stderr",
     "output_type": "stream",
     "text": [
      "/home/tpeterken/anaconda3/envs/AutoCartogram/lib/python3.10/site-packages/pandas/core/dtypes/inference.py:383: ShapelyDeprecationWarning: Iteration over multi-part geometries is deprecated and will be removed in Shapely 2.0. Use the `geoms` property to access the constituent parts of a multi-part geometry.\n",
      "  iter(obj)  # Can iterate over it.\n",
      "/home/tpeterken/anaconda3/envs/AutoCartogram/lib/python3.10/site-packages/pandas/core/dtypes/inference.py:384: ShapelyDeprecationWarning: __len__ for multi-part geometries is deprecated and will be removed in Shapely 2.0. Check the length of the `geoms` property instead to get the  number of parts of a multi-part geometry.\n",
      "  len(obj)  # Has a length associated with it.\n",
      "/home/tpeterken/anaconda3/envs/AutoCartogram/lib/python3.10/site-packages/pandas/core/dtypes/cast.py:1981: ShapelyDeprecationWarning: __len__ for multi-part geometries is deprecated and will be removed in Shapely 2.0. Check the length of the `geoms` property instead to get the  number of parts of a multi-part geometry.\n",
      "  result[:] = values\n",
      "/home/tpeterken/anaconda3/envs/AutoCartogram/lib/python3.10/site-packages/pandas/core/dtypes/cast.py:122: ShapelyDeprecationWarning: The array interface is deprecated and will no longer work in Shapely 2.0. Convert the '.coords' to a numpy array instead.\n",
      "  arr = construct_1d_object_array_from_listlike(values)\n"
     ]
    }
   ],
   "source": [
    "def make_df_array(row_labels, col_labels, values):\n",
    "    \n",
    "    dtype = values.dtype\n",
    "    array = np.zeros((len(geo_list), len(geo_list)), dtype=dtype)\n",
    "    \n",
    "    for row_lab, col_lab, value in zip(row_labels, col_labels, values):\n",
    "        array[geo_to_index_lookup[row_lab], geo_to_index_lookup[col_lab]] = value\n",
    "            \n",
    "    return array\n",
    "\n",
    "\n",
    "\n",
    "# Identify which geometries are neighbours\n",
    "\n",
    "g_copygeo = copy.copy(geodata)\n",
    "g_copygeo['geocopy'] = g_copygeo.geometry\n",
    "\n",
    "# Find all geometries which touch each other\n",
    "neighbours = g_copygeo.sjoin(g_copygeo, how='inner', predicate='touches')\n",
    "neighbours = neighbours.loc[neighbours['LAD20CD_left']!=neighbours['LAD20CD_right']]\n",
    "\n",
    "# Find the length of the border as a fraction of the left geometry's total border\n",
    "neighbours['intersection'] = neighbours.apply(lambda row: row['geocopy_left'].intersection(row['geocopy_right']), axis=1)\n",
    "neighbours['weight'] = neighbours.apply(lambda row: row['intersection'].length/row['geocopy_left'].length, axis=1)\n",
    "\n",
    "neighbours = neighbours[['LAD20CD_left', 'LAD20CD_right', 'weight']]\n",
    "\n",
    "neighbours_array = make_df_array(neighbours['LAD20CD_left'].values, neighbours['LAD20CD_right'].values, neighbours['weight'].values)"
   ]
  },
  {
   "cell_type": "code",
   "execution_count": 334,
   "id": "2ecdc71e",
   "metadata": {},
   "outputs": [
    {
     "data": {
      "text/plain": [
       "<matplotlib.colorbar.Colorbar at 0x7f3e9a13a4a0>"
      ]
     },
     "execution_count": 334,
     "metadata": {},
     "output_type": "execute_result"
    },
    {
     "data": {
      "image/png": "[encoded data removed]",
      "text/plain": [
       "<Figure size 864x864 with 2 Axes>"
      ]
     },
     "metadata": {
      "needs_background": "light"
     },
     "output_type": "display_data"
    }
   ],
   "source": [
    "f, ax = plt.subplots(figsize=(12,12))\n",
    "im = ax.imshow(neighbours_array, vmax=0.3)\n",
    "plt.colorbar(im, shrink=0.4)"
   ]
  },
  {
   "cell_type": "code",
   "execution_count": 335,
   "id": "45d631e9",
   "metadata": {},
   "outputs": [],
   "source": [
    "coastline_fraction_vector = 1-np.sum(neighbours_array, axis=1)\n",
    "coastline_fraction_vector[coastline_fraction_vector<0.01] = 0"
   ]
  },
  {
   "cell_type": "code",
   "execution_count": 336,
   "id": "a30001bb",
   "metadata": {},
   "outputs": [
    {
     "data": {
      "text/plain": [
       "[<matplotlib.lines.Line2D at 0x7f3e99fd2dd0>]"
      ]
     },
     "execution_count": 336,
     "metadata": {},
     "output_type": "execute_result"
    },
    {
     "data": {
      "image/png": "[encoded data removed]",
      "text/plain": [
       "<Figure size 432x288 with 1 Axes>"
      ]
     },
     "metadata": {
      "needs_background": "light"
     },
     "output_type": "display_data"
    }
   ],
   "source": [
    "plt.plot(coastline_fraction_vector)"
   ]
  },
  {
   "cell_type": "code",
   "execution_count": 337,
   "id": "a6a9f0e9",
   "metadata": {},
   "outputs": [],
   "source": [
    "# Measure the distance between each pair of geometries\n",
    "\n",
    "def angle_between(loca, locb):\n",
    "    xa, ya = loca.xy\n",
    "    xb, yb = locb.xy    \n",
    "    return np.arctan2(yb[0]-ya[0], xb[0]-xa[0])\n",
    "\n",
    "crossjoin = geodata.merge(geodata, how='inner', on='dummy', suffixes=('_left', '_right'))\n",
    "crossjoin = crossjoin.loc[crossjoin['LAD20CD_left']!=crossjoin['LAD20CD_right']]\n",
    "crossjoin['distance'] = crossjoin.apply(lambda row: row['geometry_left'].distance(row['geometry_right']), axis=1)\n",
    "crossjoin['target_distance_rank'] = crossjoin.groupby('LAD20CD_left')['distance'].rank()\n",
    "crossjoin['target_angle'] = crossjoin.apply(lambda row: angle_between(row['centroid_left'], row['centroid_right']), axis=1)\n",
    "distance_ranking = crossjoin[['LAD20CD_left', 'LAD20CD_right', 'target_distance_rank', 'target_angle']]\n",
    "\n",
    "distance_array = make_df_array(distance_ranking['LAD20CD_left'].values, distance_ranking['LAD20CD_right'], distance_ranking['target_distance_rank'].values)\n",
    "angle_array = make_df_array(distance_ranking['LAD20CD_left'].values, distance_ranking['LAD20CD_right'], distance_ranking['target_angle'].values)"
   ]
  },
  {
   "cell_type": "code",
   "execution_count": 338,
   "id": "7859b302",
   "metadata": {},
   "outputs": [
    {
     "data": {
      "text/plain": [
       "<matplotlib.colorbar.Colorbar at 0x7f3e9a089ab0>"
      ]
     },
     "execution_count": 338,
     "metadata": {},
     "output_type": "execute_result"
    },
    {
     "data": {
      "image/png": "[encoded data removed]",
      "text/plain": [
       "<Figure size 432x288 with 2 Axes>"
      ]
     },
     "metadata": {
      "needs_background": "light"
     },
     "output_type": "display_data"
    }
   ],
   "source": [
    "im = plt.imshow(angle_array, cmap='coolwarm')\n",
    "plt.colorbar(im)"
   ]
  },
  {
   "cell_type": "code",
   "execution_count": 339,
   "id": "c074a7a5",
   "metadata": {},
   "outputs": [
    {
     "data": {
      "text/plain": [
       "<matplotlib.image.AxesImage at 0x7f3e99ee19c0>"
      ]
     },
     "execution_count": 339,
     "metadata": {},
     "output_type": "execute_result"
    },
    {
     "data": {
      "image/png": "[encoded data removed]",
      "text/plain": [
       "<Figure size 432x288 with 1 Axes>"
      ]
     },
     "metadata": {
      "needs_background": "light"
     },
     "output_type": "display_data"
    }
   ],
   "source": [
    "plt.imshow(distance_array)"
   ]
  },
  {
   "cell_type": "code",
   "execution_count": 340,
   "id": "9c2ce5e3",
   "metadata": {},
   "outputs": [],
   "source": [
    "# Measure the north-south and east-west ranking of all \n",
    "\n",
    "orientation_ranking = copy.copy(geodata)[['LAD20CD', 'centroid']]\n",
    "orientation_ranking['x'] = orientation_ranking['centroid'].apply(lambda c: c.xy[0][0])\n",
    "orientation_ranking['y'] = orientation_ranking['centroid'].apply(lambda c: c.xy[1][0])\n",
    "orientation_ranking['EW'] = orientation_ranking['x'].rank()\n",
    "orientation_ranking['NS'] = orientation_ranking['y'].rank()\n",
    "orientation_ranking = orientation_ranking[['LAD20CD', 'EW', 'NS']]\n",
    "\n",
    "northsouth_vector = [orientation_ranking[orientation_ranking['LAD20CD']==g]['NS'].values[0] for g in geo_list]\n",
    "westeast_vector = [orientation_ranking[orientation_ranking['LAD20CD']==g]['EW'].values[0] for g in geo_list]"
   ]
  },
  {
   "cell_type": "code",
   "execution_count": null,
   "id": "d787f1eb",
   "metadata": {},
   "outputs": [],
   "source": []
  },
  {
   "cell_type": "code",
   "execution_count": null,
   "id": "a5028f0d",
   "metadata": {},
   "outputs": [],
   "source": []
  },
  {
   "cell_type": "code",
   "execution_count": null,
   "id": "e74eed80",
   "metadata": {},
   "outputs": [],
   "source": []
  },
  {
   "cell_type": "code",
   "execution_count": null,
   "id": "041327db",
   "metadata": {},
   "outputs": [],
   "source": []
  },
  {
   "cell_type": "code",
   "execution_count": 366,
   "id": "548e10e4",
   "metadata": {},
   "outputs": [],
   "source": [
    "number_of_geographies = len(geodata)\n",
    "\n",
    "max_number_of_spaces = 2 # in multiples of the number of input geographies\n",
    "\n",
    "neighbour_distance_factor = 2\n",
    "coast_factor = 1\n",
    "packing_factor = 1\n",
    "orientation_factor = 1\n",
    "\n",
    "initial_axis_ratio = (geodata.total_bounds[3]-geodata.total_bounds[1])/(geodata.total_bounds[2]-geodata.total_bounds[0])"
   ]
  },
  {
   "cell_type": "code",
   "execution_count": 367,
   "id": "b60115f1",
   "metadata": {},
   "outputs": [],
   "source": [
    "def make_integer_positions(position_list, empty_list):\n",
    "    # Turns a list of values into a list of integer values depending on the values' ranking\n",
    "    all_positions = np.concatenate([position_list, empty_list])\n",
    "    ranks = rankdata(all_positions)\n",
    "    return np.array(ranks, dtype=int)[:len(position_list)]-1\n",
    "\n",
    "\n",
    "def make_grid(\n",
    "    requested_number, # Target number of positions in the grid\n",
    "    axis_ratio, # Target axis ratio\n",
    "    actual_number=number_of_geographies, # Number of geographies which have to fit in the grid\n",
    "    min_spaces=0, # Minimum multiple of actual_number which can be occupied by empties\n",
    "    max_spaces=max_number_of_spaces # Maximum multiple of actual_number which can be occupied by empties\n",
    "):    \n",
    "    \n",
    "    requested_number = (min_spaces+1)*actual_number if (min_spaces+1)*actual_number > requested_number else requested_number\n",
    "    requested_number = (max_spaces+1)*actual_number if (max_spaces+1)*actual_number < requested_number else requested_number\n",
    "    \n",
    "    # Define basic naive dimensions\n",
    "    X_size = int(np.round(np.sqrt(requested_number/axis_ratio)))\n",
    "    Y_size = int(np.round(axis_ratio*X_size))    \n",
    "    grid_size = X_size*Y_size\n",
    "    \n",
    "    # Adjust the X-size up or down to accommodate min_spaces and max_spaces\n",
    "    while grid_size <= (min_spaces+1)*actual_number:\n",
    "        X_size = X_size+1\n",
    "        grid_size = X_size*Y_size\n",
    "    while grid_size >= (max_spaces+1)*actual_number:\n",
    "        X_size = X_size-1\n",
    "        grid_size = X_size*Y_size\n",
    "    \n",
    "    # Return the final grid dimensions\n",
    "    return (X_size, Y_size)\n",
    "\n",
    "\n",
    "def number_of_empties(grid_dims, actual_number=number_of_geographies):\n",
    "    return np.product(grid_dims)-actual_number\n",
    "\n",
    "def make_positions_2d(grid_dims, position_list):\n",
    "    return np.unravel_index(position_list, grid_dims, order='F')\n",
    "\n",
    "def pad_array(array, num_empties):\n",
    "    return np.pad(array, [0, num_empties])\n",
    "\n",
    "def get_distance_matrix(x_list, y_list):\n",
    "    a = np.array([rankdata([np.sqrt((x1-x2)**2 + (y1-y2)**2) for x1,y1 in zip(x_list, y_list)])-1 for x2,y2 in zip(x_list, y_list)])\n",
    "    a[a<1.5] = 0\n",
    "    return a\n",
    "\n",
    "def get_coastline_vector(grid_positions, diagonal_weight=0.5):\n",
    "    \n",
    "    coordlist = list(zip(*grid_positions))\n",
    "    coast_vector = np.zeros(number_of_geographies, dtype=float)\n",
    "    \n",
    "    for n,(x,y) in enumerate(coordlist):\n",
    "        for x_shift in range(-1,2):\n",
    "            for y_shift in range(-1,2):\n",
    "                if (x+x_shift, y+y_shift) not in coordlist:\n",
    "                    w = 1 if (x_shift==0 or y_shift==0) else diagonal_weight\n",
    "                    coast_vector[n] += w\n",
    "        \n",
    "    coast_vector = coast_vector/(4*(1+diagonal_weight))\n",
    "    \n",
    "    return coast_vector\n",
    "\n",
    "def orientation_order(x_list, y_list):    \n",
    "    return rankdata(y_list)-1, rankdata(x_list)-1 # NS, EW\n",
    "    \n",
    "    \n",
    "# def compare_\n"
   ]
  },
  {
   "cell_type": "code",
   "execution_count": 368,
   "id": "fe3962f5",
   "metadata": {},
   "outputs": [],
   "source": [
    "initial_positions = np.random.random(number_of_geographies*(1+max_number_of_spaces))"
   ]
  },
  {
   "cell_type": "code",
   "execution_count": 369,
   "id": "d9f90394",
   "metadata": {},
   "outputs": [],
   "source": [
    "def get_metric_vectors(grid_locations, metric_characters=((0,1),(0,1),(0,1),(0,1))):\n",
    "    distance_matrix = get_distance_matrix(*grid_locations)\n",
    "    coast_vector = get_coastline_vector(grid_locations)\n",
    "    orientation_ordering = orientation_order(*grid_locations)\n",
    "\n",
    "    neighbour_metric_matrix = distance_matrix*neighbours_array\n",
    "    neighbour_metric_vector = neighbour_metric_matrix.sum(axis=1)**2\n",
    "    neighbour_metric_vector = (neighbour_metric_vector-metric_characters[0][0])/metric_characters[0][1]\n",
    "    \n",
    "    coast_metric_vector = (coast_vector-coastline_fraction_vector)**2\n",
    "    coast_metric_vector = (coast_metric_vector-metric_characters[1][0])/metric_characters[1][1]\n",
    "\n",
    "    packing_metric_matrix = distance_matrix**2\n",
    "    packing_metric_vector = packing_metric_matrix.sum(axis=1)\n",
    "    packing_metric_vector = (packing_metric_vector-metric_characters[2][0])/metric_characters[2][1]\n",
    "\n",
    "    orientation_metric_NS = (orientation_ordering[0]-northsouth_vector)**2\n",
    "    orientation_metric_EW = (orientation_ordering[1]-westeast_vector)**2\n",
    "    orientation_metric_vector = orientation_metric_NS+orientation_metric_EW\n",
    "    orientation_metric_vector = (orientation_metric_vector-metric_characters[3][0])/metric_characters[3][1]\n",
    "    \n",
    "    metric_vector = (\n",
    "        (neighbour_distance_factor*neighbour_metric_vector) +\n",
    "        (coast_factor*coast_metric_vector) +\n",
    "        (packing_factor*packing_metric_vector) +\n",
    "        (orientation_factor*orientation_metric_vector)\n",
    "    )\n",
    "    \n",
    "    return metric_vector, neighbour_metric_vector, coast_metric_vector, packing_metric_vector, orientation_metric_vector\n",
    "\n",
    "\n",
    "def get_total_metric(total_grid_spaces, axis_ratio, all_positions):\n",
    "    \n",
    "    occupied_positions = all_positions[:number_of_geographies]\n",
    "    empty_positions = all_positions[number_of_geographies:]\n",
    "    \n",
    "    grid_size = make_grid(total_grid_spaces, axis_ratio)\n",
    "    number_empties = number_of_empties(grid_size)\n",
    "    \n",
    "    int_positions = make_integer_positions(occupied_positions, empty_positions[:number_empties])\n",
    "    grid_locations = make_positions_2d(grid_size, int_positions)\n",
    "\n",
    "    metric_vector = get_metric_vector(grid_locations)[0]\n",
    "    \n",
    "    return metric_vector, grid_locations\n",
    "\n",
    "\n",
    "def function_to_minimize(args):\n",
    "    return get_total_metric(args[0], args[1], args[2:])[0].sum()"
   ]
  },
  {
   "cell_type": "code",
   "execution_count": 370,
   "id": "c74362ea",
   "metadata": {},
   "outputs": [],
   "source": [
    "initial_args = np.concatenate([[1.5*number_of_geographies], [initial_axis_ratio], initial_positions])\n",
    "arg_bounds = np.concatenate([\n",
    "    [(number_of_geographies, (1+max_number_of_spaces)*number_of_geographies)],\n",
    "    [(0.5*initial_axis_ratio, 2*initial_axis_ratio)],\n",
    "    [(0,1)]*len(initial_positions)\n",
    "])"
   ]
  },
  {
   "cell_type": "code",
   "execution_count": 219,
   "id": "cdbda88c",
   "metadata": {},
   "outputs": [
    {
     "name": "stdout",
     "output_type": "stream",
     "text": [
      "60.3 minutes\n"
     ]
    }
   ],
   "source": [
    "# o = opt.minimize(function_to_minimize, initial_args, bounds=arg_bounds, options={'maxiter':100000})\n",
    "\n",
    "start_time = time.time()\n",
    "o = opt.dual_annealing(function_to_minimize, arg_bounds, x0=initial_args, maxiter=10000)\n",
    "end_time = time.time()\n",
    "\n",
    "print(str(np.round((end_time-start_time)/60, decimals=1))+' minutes')"
   ]
  },
  {
   "cell_type": "code",
   "execution_count": 220,
   "id": "aaafc405",
   "metadata": {},
   "outputs": [],
   "source": [
    "initial_metric_vector, in_positions = get_total_metric(initial_args[0], initial_args[1], initial_args[2:])\n",
    "final_metric_vector, f_positions = get_total_metric(o.x[0], o.x[1], o.x[2:])"
   ]
  },
  {
   "cell_type": "code",
   "execution_count": null,
   "id": "2401d225",
   "metadata": {},
   "outputs": [],
   "source": []
  },
  {
   "cell_type": "code",
   "execution_count": null,
   "id": "22369dca",
   "metadata": {},
   "outputs": [],
   "source": []
  },
  {
   "cell_type": "code",
   "execution_count": null,
   "id": "e91c1a3f",
   "metadata": {},
   "outputs": [],
   "source": []
  },
  {
   "cell_type": "code",
   "execution_count": null,
   "id": "776df7e2",
   "metadata": {},
   "outputs": [],
   "source": []
  },
  {
   "cell_type": "code",
   "execution_count": 371,
   "id": "36ae02a9",
   "metadata": {},
   "outputs": [],
   "source": [
    "def characterise_metrics(iterations=1000):\n",
    "    neighbours = []\n",
    "    coasts = []\n",
    "    packings = []\n",
    "    orientations = []\n",
    "\n",
    "\n",
    "    for n in range(iterations):\n",
    "\n",
    "        initial_positions = np.random.random(number_of_geographies*(1+max_number_of_spaces))\n",
    "\n",
    "        occupied_positions = initial_positions[:number_of_geographies]\n",
    "        empty_positions = initial_positions[number_of_geographies:]\n",
    "\n",
    "        grid_size = make_grid(len(initial_positions), initial_axis_ratio)\n",
    "        number_empties = number_of_empties(grid_size)\n",
    "\n",
    "        int_positions = make_integer_positions(occupied_positions, empty_positions[:number_empties])\n",
    "        grid_locations = make_positions_2d(grid_size, int_positions)\n",
    "\n",
    "        _, neighbour_metric_vector, coast_metric_vector, packing_metric_vector, orientation_metric_vector = get_metric_vectors(grid_locations)\n",
    "        \n",
    "        neighbours.append(neighbour_metric_vector.mean())\n",
    "        coasts.append(coast_metric_vector.mean())\n",
    "        packings.append(packing_metric_vector.mean())\n",
    "        orientations.append(orientation_metric_vector.mean())\n",
    "        \n",
    "    return (\n",
    "        (np.mean(neighbours), np.std(neighbours)),\n",
    "        (np.mean(coasts), np.std(coasts)),\n",
    "        (np.mean(packings), np.std(packings)),\n",
    "        (np.mean(orientations), np.std(orientations))\n",
    "    )\n",
    "\n",
    "metric_characters = characterise_metrics()"
   ]
  },
  {
   "cell_type": "code",
   "execution_count": 372,
   "id": "35afd49b",
   "metadata": {},
   "outputs": [
    {
     "data": {
      "text/plain": [
       "((69.37658222001599, 10.864085928722305),\n",
       " (0.25670323520655713, 0.033756284387723684),\n",
       " (3305.741863636363, 0.773665819063234),\n",
       " (161.92540909090908, 24.36641650602405))"
      ]
     },
     "execution_count": 372,
     "metadata": {},
     "output_type": "execute_result"
    }
   ],
   "source": [
    "metric_characters"
   ]
  },
  {
   "cell_type": "code",
   "execution_count": null,
   "id": "83f5df7b",
   "metadata": {},
   "outputs": [],
   "source": []
  },
  {
   "cell_type": "code",
   "execution_count": null,
   "id": "dcc0af2e",
   "metadata": {},
   "outputs": [],
   "source": []
  },
  {
   "cell_type": "code",
   "execution_count": 402,
   "id": "b201d79d",
   "metadata": {},
   "outputs": [],
   "source": [
    "max_move_jump = 1"
   ]
  },
  {
   "cell_type": "code",
   "execution_count": 403,
   "id": "75eb36d2",
   "metadata": {},
   "outputs": [],
   "source": [
    "all_positions = initial_positions"
   ]
  },
  {
   "cell_type": "code",
   "execution_count": 404,
   "id": "37143ba1",
   "metadata": {},
   "outputs": [],
   "source": [
    "occupied_positions = all_positions[:number_of_geographies]\n",
    "empty_positions = all_positions[number_of_geographies:]\n",
    "\n",
    "grid_size = make_grid(len(all_positions), initial_axis_ratio)\n",
    "number_empties = number_of_empties(grid_size)\n",
    "\n",
    "int_positions = make_integer_positions(occupied_positions, empty_positions[:number_empties])\n",
    "grid_locations = make_positions_2d(grid_size, int_positions)\n",
    "\n",
    "original_locations = copy.deepcopy(grid_locations)"
   ]
  },
  {
   "cell_type": "code",
   "execution_count": 438,
   "id": "2c765ab2",
   "metadata": {},
   "outputs": [],
   "source": [
    "def single_swap(old_locations, from_index, x_shift, y_shift):\n",
    "    \n",
    "    grid_locations = copy.deepcopy(old_locations)\n",
    "    \n",
    "    to_x = grid_locations[0][from_index]+x_shift\n",
    "    to_y = grid_locations[1][from_index]+y_shift\n",
    "    \n",
    "    existing_indices_at_destination = [\n",
    "        n for n,i in enumerate(list(zip(*grid_locations))) if i == (to_x, to_y)\n",
    "    ]\n",
    "    \n",
    "    if len(existing_indices_at_destination) > 0:\n",
    "        grid_locations[0][existing_indices_at_destination[0]] = grid_locations[0][from_index]\n",
    "        grid_locations[1][existing_indices_at_destination[0]] = grid_locations[1][from_index]\n",
    "            \n",
    "    grid_locations[0][from_index] = to_x\n",
    "    grid_locations[1][from_index] = to_y\n",
    "    \n",
    "    return grid_locations\n",
    "        \n",
    "\n",
    "\n",
    "def do_swaps(grid_locations, current_metric, index_to_swap):\n",
    "#     original_x = grid_locations[0][index_to_swap]\n",
    "#     original_y = grid_locations[1][index_to_swap]\n",
    "    \n",
    "    metrics = []\n",
    "    new_grid_locations = []\n",
    "    \n",
    "    for x_shift in range(-max_move_jump, max_move_jump+1):\n",
    "        for y_shift in range(-max_move_jump, max_move_jump+1):\n",
    "            if (x_shift, y_shift) != (0,0):\n",
    "                new_grid = single_swap(grid_locations, index_to_swap, x_shift, y_shift)\n",
    "                \n",
    "                metrics.append(get_metric_vectors(new_grid, metric_characters=metric_characters)[0].sum())\n",
    "#                 print(metrics[-1])\n",
    "                \n",
    "                new_grid_locations.append(new_grid)\n",
    "                \n",
    "    min_metric = np.min(metrics)\n",
    "#     print((min_metric, current_metric))\n",
    "    \n",
    "    return min_metric<current_metric, new_grid_locations[np.argmin(metrics)]\n",
    "    \n",
    "#     if min_metric >= current_metric:\n",
    "#         return None\n",
    "#     else:\n",
    "#         return new_grid_locations[np.argmin(metrics)]\n",
    "\n",
    "\n",
    "def do_iteration(grid_locations, grid_size):\n",
    "    \n",
    "    start_positions = copy.deepcopy(grid_locations)\n",
    "    \n",
    "    all_tested = False\n",
    "    iterate = True\n",
    "    \n",
    "    indices_available = np.ones(len(geo_list), dtype=float)\n",
    "    \n",
    "    start_metric_vector = get_metric_vectors(grid_locations, metric_characters=metric_characters)[0]\n",
    "#     print(start_metric_vector.sum())\n",
    "    \n",
    "    while iterate:\n",
    "        metric_vector_value_to_target = np.max(start_metric_vector[indices_available==1])\n",
    "        index_to_test = np.argmax(start_metric_vector==metric_vector_value_to_target)\n",
    "#         print(index_to_test)\n",
    "#         print(indices_available)\n",
    "        improved, new_grid = do_swaps(grid_locations, start_metric_vector.sum(), index_to_test)\n",
    "#         print(improved)\n",
    "        \n",
    "        if not improved:\n",
    "            indices_available[index_to_test] = 0\n",
    "            all_tested = indices_available.sum()==0\n",
    "            iterate = False if all_tested else True\n",
    "            new_grid = start_positions\n",
    "        else:\n",
    "            iterate = False\n",
    "            \n",
    "#         index_to_test+=1\n",
    "            \n",
    "    return new_grid\n",
    "    \n",
    "    "
   ]
  },
  {
   "cell_type": "code",
   "execution_count": 439,
   "id": "52d5c7b5",
   "metadata": {
    "scrolled": true
   },
   "outputs": [
    {
     "name": "stdout",
     "output_type": "stream",
     "text": [
      "it 0:  0.0 -- -0.8580687285399335\n",
      "it 1:  0.3 -- -6.921082385380942\n",
      "it 2:  0.1 -- -3.9321430725591426\n",
      "it 3:  0.1 -- -3.8698566697235037\n",
      "it 4:  0.1 -- -3.527401003784462\n",
      "it 5:  0.4 -- -5.626310387382432\n",
      "it 6:  0.0 -- -1.2190150021458521\n",
      "it 7:  0.1 -- -2.9774762935193166\n",
      "it 8:  0.1 -- -0.9610169893427383\n",
      "it 9:  0.1 -- -7.166686295585123\n",
      "it 10:  0.1 -- -13.419180004789496\n",
      "it 11:  0.1 -- -5.695721448714039\n",
      "it 12:  0.1 -- -5.002294196817957\n",
      "it 13:  0.3 -- -11.66877012558632\n",
      "it 14:  0.0 -- -0.29303854511852023\n",
      "it 15:  0.0 -- -16.705895628286726\n",
      "it 16:  0.3 -- -0.06347217424126939\n",
      "it 17:  0.4 -- -6.106620209123662\n",
      "it 18:  0.3 -- -0.7598809709779744\n",
      "it 19:  0.6 -- 0.0\n",
      "TOTAL TIME: 0.1 minutes\n"
     ]
    }
   ],
   "source": [
    "cont = True\n",
    "it = 0\n",
    "\n",
    "start_time = time.time()\n",
    "\n",
    "while cont:\n",
    "    ti = time.time()\n",
    "    \n",
    "    old_positions = copy.deepcopy(grid_locations)\n",
    "    old_metric = get_metric_vectors(old_positions, metric_characters=metric_characters)[0].sum()\n",
    "    \n",
    "    grid_locations = do_iteration(old_positions, grid_size)\n",
    "    \n",
    "    if grid_locations is None:\n",
    "        new_metric = old_metric\n",
    "        cont = False\n",
    "        \n",
    "    else:        \n",
    "        new_metric = get_metric_vectors(grid_locations, metric_characters=metric_characters)[0].sum()\n",
    "        grid_size = (grid_locations[0].max()-grid_locations[1].min()+1, grid_locations[1].max()-grid_locations[1].min()+1)\n",
    "        \n",
    "        cont = False if new_metric >= old_metric else True\n",
    "    \n",
    "    tf = time.time()\n",
    "    \n",
    "    print(\"it \"+str(it)+\":  \"+str(np.round(tf-ti, decimals=1))+' -- '+str(new_metric-old_metric))\n",
    "    it += 1\n",
    "    \n",
    "    \n",
    "total_time = time.time()-start_time\n",
    "print('TOTAL TIME: '+str(np.round(total_time/60, decimals=1))+' minutes')"
   ]
  },
  {
   "cell_type": "code",
   "execution_count": 440,
   "id": "39d07c6c",
   "metadata": {},
   "outputs": [],
   "source": [
    "initial_metric_vector = get_metric_vectors(original_locations)[0]\n",
    "final_metric_vector = get_metric_vectors(grid_locations)[0]"
   ]
  },
  {
   "cell_type": "code",
   "execution_count": 441,
   "id": "bae481c0",
   "metadata": {},
   "outputs": [
    {
     "data": {
      "image/png": "[encoded data removed]",
      "text/plain": [
       "<Figure size 864x432 with 2 Axes>"
      ]
     },
     "metadata": {
      "needs_background": "light"
     },
     "output_type": "display_data"
    }
   ],
   "source": [
    "import matplotlib as mpl\n",
    "\n",
    "cmap = mpl.cm.get_cmap('viridis')\n",
    "norm = mpl.colors.Normalize(vmin=np.min([initial_metric_vector.min(), final_metric_vector.min()]), vmax=np.min([initial_metric_vector.max(), final_metric_vector.max()]))\n",
    "\n",
    "f, axs = plt.subplots(figsize=(grid_size[0]*2, grid_size[1]), ncols=2)\n",
    "_ = [ax.axis('equal') for ax in axs]\n",
    "_ = [ax.axis('off') for ax in axs]\n",
    "\n",
    "# markers = ['o']*number_of_geographies+['.']*number_empties\n",
    "for geocode, v, x, y in zip(geo_list, initial_metric_vector, *original_locations):\n",
    "    c = cmap(norm(v))\n",
    "    axs[0].plot(x, y, 'o', color=c)\n",
    "    axs[0].annotate(geo_to_name_lookup[geocode], xy=(x,y-0.2), xytext=(0,0), textcoords=\"offset points\", ha='center', va='center', size='small')\n",
    "        \n",
    "for geocode, v, x, y in zip(geo_list, final_metric_vector, *grid_locations):\n",
    "    c = cmap(norm(v))\n",
    "    axs[1].plot(x, y, 'o', color=c)\n",
    "    axs[1].annotate(geo_to_name_lookup[geocode], xy=(x,y-0.2), xytext=(0,0), textcoords=\"offset points\", ha='center', va='center', size='small')"
   ]
  },
  {
   "cell_type": "code",
   "execution_count": null,
   "id": "c66a183d",
   "metadata": {},
   "outputs": [],
   "source": []
  },
  {
   "cell_type": "code",
   "execution_count": null,
   "id": "3c7a84dc",
   "metadata": {},
   "outputs": [],
   "source": []
  },
  {
   "cell_type": "code",
   "execution_count": 303,
   "id": "b496ea4e",
   "metadata": {},
   "outputs": [],
   "source": [
    "neighbours = []\n",
    "coasts = []\n",
    "packings = []\n",
    "orientations = []\n",
    "\n",
    "\n",
    "for n in range(1000):\n",
    "    \n",
    "    initial_positions = np.random.random(number_of_geographies*(1+max_number_of_spaces))\n",
    "    \n",
    "    occupied_positions = initial_positions[:number_of_geographies]\n",
    "    empty_positions = initial_positions[number_of_geographies:]\n",
    "\n",
    "    grid_size = make_grid(len(initial_positions), initial_axis_ratio)\n",
    "    number_empties = number_of_empties(grid_size)\n",
    "\n",
    "    int_positions = make_integer_positions(occupied_positions, empty_positions[:number_empties])\n",
    "    grid_locations = make_positions_2d(grid_size, int_positions)\n",
    "\n",
    "    distance_matrix = get_distance_matrix(*grid_locations)\n",
    "    coast_vector = get_coastline_vector(grid_locations)\n",
    "    orientation_ordering = orientation_order(*grid_locations)\n",
    "\n",
    "    neighbour_metric_matrix = distance_matrix*neighbours_array\n",
    "    neighbour_metric_vector = neighbour_metric_matrix.sum(axis=1)**2\n",
    "    \n",
    "    coast_metric_vector = (coast_vector-coastline_fraction_vector)**2\n",
    "\n",
    "    packing_metric_matrix = distance_matrix**2\n",
    "    packing_metric_vector = packing_metric_matrix.sum(axis=1)\n",
    "\n",
    "    orientation_metric_NS = (orientation_ordering[0]-northsouth_vector)**2\n",
    "    orientation_metric_EW = (orientation_ordering[1]-westeast_vector)**2\n",
    "    orientation_metric_vector = orientation_metric_NS+orientation_metric_EW\n",
    "    \n",
    "    neighbours.append(neighbour_metric_vector.mean())\n",
    "    coasts.append(coast_metric_vector.mean())\n",
    "    packings.append(packing_metric_vector.mean())\n",
    "    orientations.append(orientation_metric_vector.mean())\n",
    "    \n",
    "    "
   ]
  },
  {
   "cell_type": "code",
   "execution_count": 312,
   "id": "922234b0",
   "metadata": {},
   "outputs": [
    {
     "data": {
      "text/plain": [
       "<matplotlib.legend.Legend at 0x7f3e9a97edd0>"
      ]
     },
     "execution_count": 312,
     "metadata": {},
     "output_type": "execute_result"
    },
    {
     "data": {
      "image/png": "[encoded data removed]",
      "text/plain": [
       "<Figure size 432x288 with 1 Axes>"
      ]
     },
     "metadata": {
      "needs_background": "light"
     },
     "output_type": "display_data"
    }
   ],
   "source": [
    "f, ax = plt.subplots()\n",
    "\n",
    "# _ = ax.hist(neighbours/np.mean(neighbours), bins=50, histtype='step', color='g', label='Neighbour')\n",
    "# _ = ax.hist(coasts/np.mean(coasts), bins=50, histtype='step', color='b', label='Coast')\n",
    "# _ = ax.hist(packings/np.mean(packings), bins=50, histtype='step', color='r', label='Packing')\n",
    "# _ = ax.hist(orientations/np.mean(orientations), bins=50, histtype='step', color='k', label='Orientation')\n",
    "\n",
    "_ = ax.hist(np.array(neighbours)/159, bins=50, histtype='step', color='g', label='Neighbour')\n",
    "_ = ax.hist(np.array(coasts)/0.278, bins=50, histtype='step', color='b', label='Coast')\n",
    "_ = ax.hist(((np.array(packings)-10407)/0.05), bins=50, histtype='step', color='r', label='Packing')\n",
    "_ = ax.hist(np.array(orientations)/341, bins=50, histtype='step', color='k', label='Orientation')\n",
    "\n",
    "ax.legend()"
   ]
  },
  {
   "cell_type": "code",
   "execution_count": 311,
   "id": "49df5329",
   "metadata": {},
   "outputs": [
    {
     "data": {
      "text/plain": [
       "10407.393759366028"
      ]
     },
     "execution_count": 311,
     "metadata": {},
     "output_type": "execute_result"
    }
   ],
   "source": [
    "np.mean(packings) - (np.std(packings)/np.std(neighbours))"
   ]
  },
  {
   "cell_type": "code",
   "execution_count": 309,
   "id": "acd365a9",
   "metadata": {},
   "outputs": [
    {
     "data": {
      "text/plain": [
       "1.0687049839752023"
      ]
     },
     "execution_count": 309,
     "metadata": {},
     "output_type": "execute_result"
    }
   ],
   "source": [
    "np.std(packings)"
   ]
  },
  {
   "cell_type": "code",
   "execution_count": 310,
   "id": "f3ecd94d",
   "metadata": {},
   "outputs": [
    {
     "data": {
      "text/plain": [
       "0.05083438397285012"
      ]
     },
     "execution_count": 310,
     "metadata": {},
     "output_type": "execute_result"
    }
   ],
   "source": [
    "np.std(packings)/np.std(neighbours)"
   ]
  },
  {
   "cell_type": "code",
   "execution_count": 304,
   "id": "91ea4fb2",
   "metadata": {},
   "outputs": [
    {
     "data": {
      "text/plain": [
       "159.48074517416907"
      ]
     },
     "execution_count": 304,
     "metadata": {},
     "output_type": "execute_result"
    }
   ],
   "source": [
    "np.mean(neighbours)"
   ]
  },
  {
   "cell_type": "code",
   "execution_count": 305,
   "id": "e6366dac",
   "metadata": {},
   "outputs": [
    {
     "data": {
      "text/plain": [
       "0.2778610601950322"
      ]
     },
     "execution_count": 305,
     "metadata": {},
     "output_type": "execute_result"
    }
   ],
   "source": [
    "np.mean(coasts)"
   ]
  },
  {
   "cell_type": "code",
   "execution_count": 306,
   "id": "ea378bae",
   "metadata": {},
   "outputs": [
    {
     "data": {
      "text/plain": [
       "341.379265625"
      ]
     },
     "execution_count": 306,
     "metadata": {},
     "output_type": "execute_result"
    }
   ],
   "source": [
    "np.mean(orientations)"
   ]
  }
 ],
 "metadata": {
  "kernelspec": {
   "display_name": "Python 3 (ipykernel)",
   "language": "python",
   "name": "python3"
  },
  "language_info": {
   "codemirror_mode": {
    "name": "ipython",
    "version": 3
   },
   "file_extension": ".py",
   "mimetype": "text/x-python",
   "name": "python",
   "nbconvert_exporter": "python",
   "pygments_lexer": "ipython3",
   "version": "3.10.4"
  }
 },
 "nbformat": 4,
 "nbformat_minor": 5
}
