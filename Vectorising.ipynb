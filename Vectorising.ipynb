{
 "cells": [
  {
   "cell_type": "code",
   "execution_count": 1,
   "id": "d3e4f534",
   "metadata": {},
   "outputs": [],
   "source": [
    "import geopandas as gpd\n",
    "import pandas as pd\n",
    "import numpy as np\n",
    "import matplotlib.pyplot as plt\n",
    "# import random\n",
    "# from shapely.geometry import Point\n",
    "import copy\n",
    "import time\n",
    "import bisect\n",
    "from scipy.stats import rankdata"
   ]
  },
  {
   "cell_type": "code",
   "execution_count": null,
   "id": "2c74c2f7",
   "metadata": {},
   "outputs": [],
   "source": [
    "# NOTES\n",
    "# Distance ranking: make sure in the grid view that equal distances give equal ranking\n",
    " # (Same for orientation rankings)"
   ]
  },
  {
   "cell_type": "code",
   "execution_count": 19,
   "id": "c2514ead",
   "metadata": {},
   "outputs": [],
   "source": [
    "geodata = gpd.read_file('./Data/LADs.geojson').to_crs('epsg:27700')\n",
    "# geodata = geodata[['E09' in c for c in geodata['LAD20CD']]][['LAD20CD', 'LAD20NM', 'geometry']]\n",
    "geodata = geodata[['W' in c for c in geodata['LAD20CD']]][['LAD20CD', 'LAD20NM', 'geometry']]\n",
    "geodata['dummy'] = geodata['geometry'].apply(lambda g: 1)\n",
    "geodata['centroid'] = geodata.centroid\n",
    "\n",
    "geo_list = geodata['LAD20CD'].values # Definitive list with definitive order of geometry codes"
   ]
  },
  {
   "cell_type": "code",
   "execution_count": 12,
   "id": "c6b1c149",
   "metadata": {},
   "outputs": [
    {
     "data": {
      "text/plain": [
       "<AxesSubplot:>"
      ]
     },
     "execution_count": 12,
     "metadata": {},
     "output_type": "execute_result"
    },
    {
     "data": {
      "image/png": "[encoded data removed]",
      "text/plain": [
       "<Figure size 432x288 with 1 Axes>"
      ]
     },
     "metadata": {
      "needs_background": "light"
     },
     "output_type": "display_data"
    }
   ],
   "source": [
    "geodata.plot()"
   ]
  },
  {
   "cell_type": "code",
   "execution_count": 13,
   "id": "dcc2dc7c",
   "metadata": {},
   "outputs": [
    {
     "data": {
      "text/html": [
       "<div>\n",
       "<style scoped>\n",
       "    .dataframe tbody tr th:only-of-type {\n",
       "        vertical-align: middle;\n",
       "    }\n",
       "\n",
       "    .dataframe tbody tr th {\n",
       "        vertical-align: top;\n",
       "    }\n",
       "\n",
       "    .dataframe thead th {\n",
       "        text-align: right;\n",
       "    }\n",
       "</style>\n",
       "<table border=\"1\" class=\"dataframe\">\n",
       "  <thead>\n",
       "    <tr style=\"text-align: right;\">\n",
       "      <th></th>\n",
       "      <th>LAD20CD</th>\n",
       "      <th>LAD20NM</th>\n",
       "      <th>geometry</th>\n",
       "      <th>dummy</th>\n",
       "      <th>centroid</th>\n",
       "    </tr>\n",
       "  </thead>\n",
       "  <tbody>\n",
       "    <tr>\n",
       "      <th>357</th>\n",
       "      <td>W06000001</td>\n",
       "      <td>Isle of Anglesey</td>\n",
       "      <td>POLYGON ((240000.004 394577.908, 240445.514 39...</td>\n",
       "      <td>1</td>\n",
       "      <td>POINT (241835.228 379233.676)</td>\n",
       "    </tr>\n",
       "    <tr>\n",
       "      <th>358</th>\n",
       "      <td>W06000002</td>\n",
       "      <td>Gwynedd</td>\n",
       "      <td>MULTIPOLYGON (((267978.708 372366.304, 270868....</td>\n",
       "      <td>1</td>\n",
       "      <td>POINT (264136.399 334667.737)</td>\n",
       "    </tr>\n",
       "    <tr>\n",
       "      <th>359</th>\n",
       "      <td>W06000003</td>\n",
       "      <td>Conwy</td>\n",
       "      <td>POLYGON ((299724.870 380889.607, 300371.113 37...</td>\n",
       "      <td>1</td>\n",
       "      <td>POINT (284072.324 361552.108)</td>\n",
       "    </tr>\n",
       "    <tr>\n",
       "      <th>360</th>\n",
       "      <td>W06000004</td>\n",
       "      <td>Denbighshire</td>\n",
       "      <td>POLYGON ((324414.214 353387.707, 323145.711 35...</td>\n",
       "      <td>1</td>\n",
       "      <td>POINT (309507.880 355562.623)</td>\n",
       "    </tr>\n",
       "    <tr>\n",
       "      <th>361</th>\n",
       "      <td>W06000005</td>\n",
       "      <td>Flintshire</td>\n",
       "      <td>MULTIPOLYGON (((313293.515 382786.601, 315287....</td>\n",
       "      <td>1</td>\n",
       "      <td>POINT (322547.437 368615.133)</td>\n",
       "    </tr>\n",
       "    <tr>\n",
       "      <th>362</th>\n",
       "      <td>W06000006</td>\n",
       "      <td>Wrexham</td>\n",
       "      <td>POLYGON ((351298.712 343127.004, 350716.010 34...</td>\n",
       "      <td>1</td>\n",
       "      <td>POINT (331695.185 344175.768)</td>\n",
       "    </tr>\n",
       "    <tr>\n",
       "      <th>363</th>\n",
       "      <td>W06000008</td>\n",
       "      <td>Ceredigion</td>\n",
       "      <td>POLYGON ((279749.210 249226.602, 277768.013 24...</td>\n",
       "      <td>1</td>\n",
       "      <td>POINT (258559.569 263733.729)</td>\n",
       "    </tr>\n",
       "    <tr>\n",
       "      <th>364</th>\n",
       "      <td>W06000009</td>\n",
       "      <td>Pembrokeshire</td>\n",
       "      <td>MULTIPOLYGON (((216364.016 243983.404, 217396....</td>\n",
       "      <td>1</td>\n",
       "      <td>POINT (201337.424 221180.436)</td>\n",
       "    </tr>\n",
       "    <tr>\n",
       "      <th>365</th>\n",
       "      <td>W06000010</td>\n",
       "      <td>Carmarthenshire</td>\n",
       "      <td>POLYGON ((279749.210 249226.602, 282307.116 24...</td>\n",
       "      <td>1</td>\n",
       "      <td>POINT (251556.904 225139.754)</td>\n",
       "    </tr>\n",
       "    <tr>\n",
       "      <th>366</th>\n",
       "      <td>W06000011</td>\n",
       "      <td>Swansea</td>\n",
       "      <td>MULTIPOLYGON (((262123.115 210278.302, 264479....</td>\n",
       "      <td>1</td>\n",
       "      <td>POINT (258170.595 195828.191)</td>\n",
       "    </tr>\n",
       "    <tr>\n",
       "      <th>367</th>\n",
       "      <td>W06000012</td>\n",
       "      <td>Neath Port Talbot</td>\n",
       "      <td>POLYGON ((275483.512 211465.301, 277901.616 20...</td>\n",
       "      <td>1</td>\n",
       "      <td>POINT (279710.728 199475.964)</td>\n",
       "    </tr>\n",
       "    <tr>\n",
       "      <th>368</th>\n",
       "      <td>W06000013</td>\n",
       "      <td>Bridgend</td>\n",
       "      <td>POLYGON ((296179.514 180365.102, 293926.115 17...</td>\n",
       "      <td>1</td>\n",
       "      <td>POINT (289261.086 185303.662)</td>\n",
       "    </tr>\n",
       "    <tr>\n",
       "      <th>369</th>\n",
       "      <td>W06000014</td>\n",
       "      <td>Vale of Glamorgan</td>\n",
       "      <td>MULTIPOLYGON (((302165.914 179592.505, 302783....</td>\n",
       "      <td>1</td>\n",
       "      <td>POINT (302837.916 172825.539)</td>\n",
       "    </tr>\n",
       "    <tr>\n",
       "      <th>370</th>\n",
       "      <td>W06000015</td>\n",
       "      <td>Cardiff</td>\n",
       "      <td>POLYGON ((322508.409 183565.008, 325932.914 18...</td>\n",
       "      <td>1</td>\n",
       "      <td>POINT (316429.793 179758.895)</td>\n",
       "    </tr>\n",
       "    <tr>\n",
       "      <th>371</th>\n",
       "      <td>W06000016</td>\n",
       "      <td>Rhondda Cynon Taf</td>\n",
       "      <td>POLYGON ((300546.815 214081.303, 300743.609 21...</td>\n",
       "      <td>1</td>\n",
       "      <td>POINT (300727.655 195600.211)</td>\n",
       "    </tr>\n",
       "    <tr>\n",
       "      <th>372</th>\n",
       "      <td>W06000018</td>\n",
       "      <td>Caerphilly</td>\n",
       "      <td>POLYGON ((322947.410 199706.208, 323910.210 19...</td>\n",
       "      <td>1</td>\n",
       "      <td>POINT (316772.372 195606.935)</td>\n",
       "    </tr>\n",
       "    <tr>\n",
       "      <th>373</th>\n",
       "      <td>W06000019</td>\n",
       "      <td>Blaenau Gwent</td>\n",
       "      <td>POLYGON ((320318.110 213680.006, 321092.609 21...</td>\n",
       "      <td>1</td>\n",
       "      <td>POINT (317687.889 208263.319)</td>\n",
       "    </tr>\n",
       "    <tr>\n",
       "      <th>374</th>\n",
       "      <td>W06000020</td>\n",
       "      <td>Torfaen</td>\n",
       "      <td>POLYGON ((333723.012 192653.907, 331617.809 19...</td>\n",
       "      <td>1</td>\n",
       "      <td>POINT (327271.207 200527.491)</td>\n",
       "    </tr>\n",
       "    <tr>\n",
       "      <th>375</th>\n",
       "      <td>W06000021</td>\n",
       "      <td>Monmouthshire</td>\n",
       "      <td>POLYGON ((355272.716 214366.801, 354547.712 21...</td>\n",
       "      <td>1</td>\n",
       "      <td>POINT (339908.627 207883.316)</td>\n",
       "    </tr>\n",
       "    <tr>\n",
       "      <th>376</th>\n",
       "      <td>W06000022</td>\n",
       "      <td>Newport</td>\n",
       "      <td>POLYGON ((343091.766 184213.492, 340000.004 18...</td>\n",
       "      <td>1</td>\n",
       "      <td>POINT (333160.397 187189.889)</td>\n",
       "    </tr>\n",
       "    <tr>\n",
       "      <th>377</th>\n",
       "      <td>W06000023</td>\n",
       "      <td>Powys</td>\n",
       "      <td>POLYGON ((322891.616 333139.303, 323688.509 33...</td>\n",
       "      <td>1</td>\n",
       "      <td>POINT (303988.076 270511.052)</td>\n",
       "    </tr>\n",
       "    <tr>\n",
       "      <th>378</th>\n",
       "      <td>W06000024</td>\n",
       "      <td>Merthyr Tydfil</td>\n",
       "      <td>POLYGON ((308057.316 211036.204, 308367.116 20...</td>\n",
       "      <td>1</td>\n",
       "      <td>POINT (306057.506 205651.722)</td>\n",
       "    </tr>\n",
       "  </tbody>\n",
       "</table>\n",
       "</div>"
      ],
      "text/plain": [
       "       LAD20CD            LAD20NM  \\\n",
       "357  W06000001   Isle of Anglesey   \n",
       "358  W06000002            Gwynedd   \n",
       "359  W06000003              Conwy   \n",
       "360  W06000004       Denbighshire   \n",
       "361  W06000005         Flintshire   \n",
       "362  W06000006            Wrexham   \n",
       "363  W06000008         Ceredigion   \n",
       "364  W06000009      Pembrokeshire   \n",
       "365  W06000010    Carmarthenshire   \n",
       "366  W06000011            Swansea   \n",
       "367  W06000012  Neath Port Talbot   \n",
       "368  W06000013           Bridgend   \n",
       "369  W06000014  Vale of Glamorgan   \n",
       "370  W06000015            Cardiff   \n",
       "371  W06000016  Rhondda Cynon Taf   \n",
       "372  W06000018         Caerphilly   \n",
       "373  W06000019      Blaenau Gwent   \n",
       "374  W06000020            Torfaen   \n",
       "375  W06000021      Monmouthshire   \n",
       "376  W06000022            Newport   \n",
       "377  W06000023              Powys   \n",
       "378  W06000024     Merthyr Tydfil   \n",
       "\n",
       "                                              geometry  dummy  \\\n",
       "357  POLYGON ((240000.004 394577.908, 240445.514 39...      1   \n",
       "358  MULTIPOLYGON (((267978.708 372366.304, 270868....      1   \n",
       "359  POLYGON ((299724.870 380889.607, 300371.113 37...      1   \n",
       "360  POLYGON ((324414.214 353387.707, 323145.711 35...      1   \n",
       "361  MULTIPOLYGON (((313293.515 382786.601, 315287....      1   \n",
       "362  POLYGON ((351298.712 343127.004, 350716.010 34...      1   \n",
       "363  POLYGON ((279749.210 249226.602, 277768.013 24...      1   \n",
       "364  MULTIPOLYGON (((216364.016 243983.404, 217396....      1   \n",
       "365  POLYGON ((279749.210 249226.602, 282307.116 24...      1   \n",
       "366  MULTIPOLYGON (((262123.115 210278.302, 264479....      1   \n",
       "367  POLYGON ((275483.512 211465.301, 277901.616 20...      1   \n",
       "368  POLYGON ((296179.514 180365.102, 293926.115 17...      1   \n",
       "369  MULTIPOLYGON (((302165.914 179592.505, 302783....      1   \n",
       "370  POLYGON ((322508.409 183565.008, 325932.914 18...      1   \n",
       "371  POLYGON ((300546.815 214081.303, 300743.609 21...      1   \n",
       "372  POLYGON ((322947.410 199706.208, 323910.210 19...      1   \n",
       "373  POLYGON ((320318.110 213680.006, 321092.609 21...      1   \n",
       "374  POLYGON ((333723.012 192653.907, 331617.809 19...      1   \n",
       "375  POLYGON ((355272.716 214366.801, 354547.712 21...      1   \n",
       "376  POLYGON ((343091.766 184213.492, 340000.004 18...      1   \n",
       "377  POLYGON ((322891.616 333139.303, 323688.509 33...      1   \n",
       "378  POLYGON ((308057.316 211036.204, 308367.116 20...      1   \n",
       "\n",
       "                          centroid  \n",
       "357  POINT (241835.228 379233.676)  \n",
       "358  POINT (264136.399 334667.737)  \n",
       "359  POINT (284072.324 361552.108)  \n",
       "360  POINT (309507.880 355562.623)  \n",
       "361  POINT (322547.437 368615.133)  \n",
       "362  POINT (331695.185 344175.768)  \n",
       "363  POINT (258559.569 263733.729)  \n",
       "364  POINT (201337.424 221180.436)  \n",
       "365  POINT (251556.904 225139.754)  \n",
       "366  POINT (258170.595 195828.191)  \n",
       "367  POINT (279710.728 199475.964)  \n",
       "368  POINT (289261.086 185303.662)  \n",
       "369  POINT (302837.916 172825.539)  \n",
       "370  POINT (316429.793 179758.895)  \n",
       "371  POINT (300727.655 195600.211)  \n",
       "372  POINT (316772.372 195606.935)  \n",
       "373  POINT (317687.889 208263.319)  \n",
       "374  POINT (327271.207 200527.491)  \n",
       "375  POINT (339908.627 207883.316)  \n",
       "376  POINT (333160.397 187189.889)  \n",
       "377  POINT (303988.076 270511.052)  \n",
       "378  POINT (306057.506 205651.722)  "
      ]
     },
     "execution_count": 13,
     "metadata": {},
     "output_type": "execute_result"
    }
   ],
   "source": [
    "geodata"
   ]
  },
  {
   "cell_type": "code",
   "execution_count": 47,
   "id": "e14a171b",
   "metadata": {},
   "outputs": [
    {
     "data": {
      "text/plain": [
       "<matplotlib.image.AxesImage at 0x7fafe1229390>"
      ]
     },
     "execution_count": 47,
     "metadata": {},
     "output_type": "execute_result"
    },
    {
     "data": {
      "image/png": "[encoded data removed]",
      "text/plain": [
       "<Figure size 432x288 with 1 Axes>"
      ]
     },
     "metadata": {
      "needs_background": "light"
     },
     "output_type": "display_data"
    }
   ],
   "source": [
    "plt.imshow(array)"
   ]
  },
  {
   "cell_type": "code",
   "execution_count": 43,
   "id": "b1484ecc",
   "metadata": {},
   "outputs": [
    {
     "data": {
      "text/html": [
       "<div>\n",
       "<style scoped>\n",
       "    .dataframe tbody tr th:only-of-type {\n",
       "        vertical-align: middle;\n",
       "    }\n",
       "\n",
       "    .dataframe tbody tr th {\n",
       "        vertical-align: top;\n",
       "    }\n",
       "\n",
       "    .dataframe thead th {\n",
       "        text-align: right;\n",
       "    }\n",
       "</style>\n",
       "<table border=\"1\" class=\"dataframe\">\n",
       "  <thead>\n",
       "    <tr style=\"text-align: right;\">\n",
       "      <th></th>\n",
       "      <th>LAD20CD_left</th>\n",
       "      <th>LAD20CD_right</th>\n",
       "      <th>weight</th>\n",
       "    </tr>\n",
       "  </thead>\n",
       "  <tbody>\n",
       "    <tr>\n",
       "      <th>378</th>\n",
       "      <td>W06000024</td>\n",
       "      <td>W06000023</td>\n",
       "      <td>0.207431</td>\n",
       "    </tr>\n",
       "    <tr>\n",
       "      <th>378</th>\n",
       "      <td>W06000024</td>\n",
       "      <td>W06000016</td>\n",
       "      <td>0.438795</td>\n",
       "    </tr>\n",
       "    <tr>\n",
       "      <th>378</th>\n",
       "      <td>W06000024</td>\n",
       "      <td>W06000018</td>\n",
       "      <td>0.353774</td>\n",
       "    </tr>\n",
       "  </tbody>\n",
       "</table>\n",
       "</div>"
      ],
      "text/plain": [
       "    LAD20CD_left LAD20CD_right    weight\n",
       "378    W06000024     W06000023  0.207431\n",
       "378    W06000024     W06000016  0.438795\n",
       "378    W06000024     W06000018  0.353774"
      ]
     },
     "execution_count": 43,
     "metadata": {},
     "output_type": "execute_result"
    }
   ],
   "source": [
    "neighbours[neighbours['LAD20CD_left']==geo_list[-1]]"
   ]
  },
  {
   "cell_type": "code",
   "execution_count": 45,
   "id": "45323ff4",
   "metadata": {},
   "outputs": [
    {
     "data": {
      "text/html": [
       "<div>\n",
       "<style scoped>\n",
       "    .dataframe tbody tr th:only-of-type {\n",
       "        vertical-align: middle;\n",
       "    }\n",
       "\n",
       "    .dataframe tbody tr th {\n",
       "        vertical-align: top;\n",
       "    }\n",
       "\n",
       "    .dataframe thead th {\n",
       "        text-align: right;\n",
       "    }\n",
       "</style>\n",
       "<table border=\"1\" class=\"dataframe\">\n",
       "  <thead>\n",
       "    <tr style=\"text-align: right;\">\n",
       "      <th></th>\n",
       "      <th>LAD20CD_left</th>\n",
       "      <th>LAD20CD_right</th>\n",
       "      <th>weight</th>\n",
       "    </tr>\n",
       "  </thead>\n",
       "  <tbody>\n",
       "    <tr>\n",
       "      <th>371</th>\n",
       "      <td>W06000016</td>\n",
       "      <td>W06000024</td>\n",
       "      <td>0.231222</td>\n",
       "    </tr>\n",
       "    <tr>\n",
       "      <th>372</th>\n",
       "      <td>W06000018</td>\n",
       "      <td>W06000024</td>\n",
       "      <td>0.213203</td>\n",
       "    </tr>\n",
       "    <tr>\n",
       "      <th>377</th>\n",
       "      <td>W06000023</td>\n",
       "      <td>W06000024</td>\n",
       "      <td>0.024348</td>\n",
       "    </tr>\n",
       "  </tbody>\n",
       "</table>\n",
       "</div>"
      ],
      "text/plain": [
       "    LAD20CD_left LAD20CD_right    weight\n",
       "371    W06000016     W06000024  0.231222\n",
       "372    W06000018     W06000024  0.213203\n",
       "377    W06000023     W06000024  0.024348"
      ]
     },
     "execution_count": 45,
     "metadata": {},
     "output_type": "execute_result"
    }
   ],
   "source": [
    "neighbours[neighbours['LAD20CD_right']==geo_list[-1]]"
   ]
  },
  {
   "cell_type": "code",
   "execution_count": 49,
   "id": "576338c3",
   "metadata": {},
   "outputs": [
    {
     "name": "stderr",
     "output_type": "stream",
     "text": [
      "/home/tpeterken/anaconda3/envs/AutoCartogram/lib/python3.10/site-packages/pandas/core/dtypes/inference.py:383: ShapelyDeprecationWarning: Iteration over multi-part geometries is deprecated and will be removed in Shapely 2.0. Use the `geoms` property to access the constituent parts of a multi-part geometry.\n",
      "  iter(obj)  # Can iterate over it.\n",
      "/home/tpeterken/anaconda3/envs/AutoCartogram/lib/python3.10/site-packages/pandas/core/dtypes/inference.py:384: ShapelyDeprecationWarning: __len__ for multi-part geometries is deprecated and will be removed in Shapely 2.0. Check the length of the `geoms` property instead to get the  number of parts of a multi-part geometry.\n",
      "  len(obj)  # Has a length associated with it.\n",
      "/home/tpeterken/anaconda3/envs/AutoCartogram/lib/python3.10/site-packages/pandas/core/dtypes/cast.py:1981: ShapelyDeprecationWarning: __len__ for multi-part geometries is deprecated and will be removed in Shapely 2.0. Check the length of the `geoms` property instead to get the  number of parts of a multi-part geometry.\n",
      "  result[:] = values\n",
      "/home/tpeterken/anaconda3/envs/AutoCartogram/lib/python3.10/site-packages/pandas/core/dtypes/cast.py:122: ShapelyDeprecationWarning: The array interface is deprecated and will no longer work in Shapely 2.0. Convert the '.coords' to a numpy array instead.\n",
      "  arr = construct_1d_object_array_from_listlike(values)\n"
     ]
    }
   ],
   "source": [
    "def make_df_array(row_labels, col_labels, values):\n",
    "    \n",
    "    dtype = values.dtype\n",
    "    array = np.zeros((len(geo_list), len(geo_list)), dtype=dtype)\n",
    "    \n",
    "    for row_num, row_lab in enumerate(geo_list):\n",
    "        for col_num, col_lab in enumerate(geo_list):\n",
    "            vs = values[(row_labels==row_lab) & (col_labels==col_lab)]\n",
    "            if len(vs)>0:\n",
    "                array[row_num, col_num] = vs[0]\n",
    "            \n",
    "    return array\n",
    "\n",
    "\n",
    "\n",
    "# Identify which geometries are neighbours\n",
    "\n",
    "g_copygeo = copy.copy(geodata)\n",
    "g_copygeo['geocopy'] = g_copygeo.geometry\n",
    "\n",
    "# Find all geometries which touch each other\n",
    "neighbours = g_copygeo.sjoin(g_copygeo, how='inner', predicate='touches')\n",
    "neighbours = neighbours.loc[neighbours['LAD20CD_left']!=neighbours['LAD20CD_right']]\n",
    "\n",
    "# Find the length of the border as a fraction of the left geometry's total border\n",
    "neighbours['intersection'] = neighbours.apply(lambda row: row['geocopy_left'].intersection(row['geocopy_right']), axis=1)\n",
    "neighbours['weight'] = neighbours.apply(lambda row: row['intersection'].length/row['geocopy_left'].length, axis=1)\n",
    "\n",
    "neighbours = neighbours[['LAD20CD_left', 'LAD20CD_right', 'weight']]\n",
    "\n",
    "neighbours_array = make_df_array(neighbours['LAD20CD_left'].values, neighbours['LAD20CD_right'].values, neighbours['weight'].values)"
   ]
  },
  {
   "cell_type": "code",
   "execution_count": 50,
   "id": "2ecdc71e",
   "metadata": {},
   "outputs": [
    {
     "data": {
      "text/plain": [
       "<matplotlib.image.AxesImage at 0x7fafe1271210>"
      ]
     },
     "execution_count": 50,
     "metadata": {},
     "output_type": "execute_result"
    },
    {
     "data": {
      "image/png": "[encoded data removed]",
      "text/plain": [
       "<Figure size 432x288 with 1 Axes>"
      ]
     },
     "metadata": {
      "needs_background": "light"
     },
     "output_type": "display_data"
    }
   ],
   "source": [
    "plt.imshow(neighbours_array)"
   ]
  },
  {
   "cell_type": "code",
   "execution_count": 57,
   "id": "a6a9f0e9",
   "metadata": {},
   "outputs": [],
   "source": [
    "# Measure the distance between each pair of geometries\n",
    "\n",
    "def angle_between(loca, locb):\n",
    "    xa, ya = loca.xy\n",
    "    xb, yb = locb.xy    \n",
    "    return np.arctan2(yb[0]-ya[0], xb[0]-xa[0])\n",
    "\n",
    "crossjoin = geodata.merge(geodata, how='inner', on='dummy', suffixes=('_left', '_right'))\n",
    "crossjoin = crossjoin.loc[crossjoin['LAD20CD_left']!=crossjoin['LAD20CD_right']]\n",
    "crossjoin['distance'] = crossjoin.apply(lambda row: row['geometry_left'].distance(row['geometry_right']), axis=1)\n",
    "crossjoin['target_distance_rank'] = crossjoin.groupby('LAD20CD_left')['distance'].rank()\n",
    "crossjoin['target_angle'] = crossjoin.apply(lambda row: angle_between(row['centroid_left'], row['centroid_right']), axis=1)\n",
    "distance_ranking = crossjoin[['LAD20CD_left', 'LAD20CD_right', 'target_distance_rank', 'target_angle']]\n",
    "\n",
    "distance_array = make_df_array(distance_ranking['LAD20CD_left'].values, distance_ranking['LAD20CD_right'], distance_ranking['target_distance_rank'].values)\n",
    "angle_array = make_df_array(distance_ranking['LAD20CD_left'].values, distance_ranking['LAD20CD_right'], distance_ranking['target_angle'].values)"
   ]
  },
  {
   "cell_type": "code",
   "execution_count": 53,
   "id": "809792e0",
   "metadata": {},
   "outputs": [
    {
     "data": {
      "text/html": [
       "<div>\n",
       "<style scoped>\n",
       "    .dataframe tbody tr th:only-of-type {\n",
       "        vertical-align: middle;\n",
       "    }\n",
       "\n",
       "    .dataframe tbody tr th {\n",
       "        vertical-align: top;\n",
       "    }\n",
       "\n",
       "    .dataframe thead th {\n",
       "        text-align: right;\n",
       "    }\n",
       "</style>\n",
       "<table border=\"1\" class=\"dataframe\">\n",
       "  <thead>\n",
       "    <tr style=\"text-align: right;\">\n",
       "      <th></th>\n",
       "      <th>LAD20CD_left</th>\n",
       "      <th>LAD20CD_right</th>\n",
       "      <th>target_distance_rank</th>\n",
       "      <th>target_angle</th>\n",
       "    </tr>\n",
       "  </thead>\n",
       "  <tbody>\n",
       "    <tr>\n",
       "      <th>1</th>\n",
       "      <td>W06000001</td>\n",
       "      <td>W06000002</td>\n",
       "      <td>1.0</td>\n",
       "      <td>-1.106822</td>\n",
       "    </tr>\n",
       "    <tr>\n",
       "      <th>2</th>\n",
       "      <td>W06000001</td>\n",
       "      <td>W06000003</td>\n",
       "      <td>2.0</td>\n",
       "      <td>-0.396460</td>\n",
       "    </tr>\n",
       "    <tr>\n",
       "      <th>3</th>\n",
       "      <td>W06000001</td>\n",
       "      <td>W06000004</td>\n",
       "      <td>3.0</td>\n",
       "      <td>-0.336486</td>\n",
       "    </tr>\n",
       "    <tr>\n",
       "      <th>4</th>\n",
       "      <td>W06000001</td>\n",
       "      <td>W06000005</td>\n",
       "      <td>4.0</td>\n",
       "      <td>-0.130809</td>\n",
       "    </tr>\n",
       "    <tr>\n",
       "      <th>5</th>\n",
       "      <td>W06000001</td>\n",
       "      <td>W06000006</td>\n",
       "      <td>6.0</td>\n",
       "      <td>-0.371977</td>\n",
       "    </tr>\n",
       "    <tr>\n",
       "      <th>...</th>\n",
       "      <td>...</td>\n",
       "      <td>...</td>\n",
       "      <td>...</td>\n",
       "      <td>...</td>\n",
       "    </tr>\n",
       "    <tr>\n",
       "      <th>478</th>\n",
       "      <td>W06000024</td>\n",
       "      <td>W06000019</td>\n",
       "      <td>4.0</td>\n",
       "      <td>0.220886</td>\n",
       "    </tr>\n",
       "    <tr>\n",
       "      <th>479</th>\n",
       "      <td>W06000024</td>\n",
       "      <td>W06000020</td>\n",
       "      <td>7.0</td>\n",
       "      <td>-0.237013</td>\n",
       "    </tr>\n",
       "    <tr>\n",
       "      <th>480</th>\n",
       "      <td>W06000024</td>\n",
       "      <td>W06000021</td>\n",
       "      <td>9.0</td>\n",
       "      <td>0.065829</td>\n",
       "    </tr>\n",
       "    <tr>\n",
       "      <th>481</th>\n",
       "      <td>W06000024</td>\n",
       "      <td>W06000022</td>\n",
       "      <td>10.0</td>\n",
       "      <td>-0.597980</td>\n",
       "    </tr>\n",
       "    <tr>\n",
       "      <th>482</th>\n",
       "      <td>W06000024</td>\n",
       "      <td>W06000023</td>\n",
       "      <td>2.0</td>\n",
       "      <td>1.602692</td>\n",
       "    </tr>\n",
       "  </tbody>\n",
       "</table>\n",
       "<p>462 rows × 4 columns</p>\n",
       "</div>"
      ],
      "text/plain": [
       "    LAD20CD_left LAD20CD_right  target_distance_rank  target_angle\n",
       "1      W06000001     W06000002                   1.0     -1.106822\n",
       "2      W06000001     W06000003                   2.0     -0.396460\n",
       "3      W06000001     W06000004                   3.0     -0.336486\n",
       "4      W06000001     W06000005                   4.0     -0.130809\n",
       "5      W06000001     W06000006                   6.0     -0.371977\n",
       "..           ...           ...                   ...           ...\n",
       "478    W06000024     W06000019                   4.0      0.220886\n",
       "479    W06000024     W06000020                   7.0     -0.237013\n",
       "480    W06000024     W06000021                   9.0      0.065829\n",
       "481    W06000024     W06000022                  10.0     -0.597980\n",
       "482    W06000024     W06000023                   2.0      1.602692\n",
       "\n",
       "[462 rows x 4 columns]"
      ]
     },
     "execution_count": 53,
     "metadata": {},
     "output_type": "execute_result"
    }
   ],
   "source": [
    "distance_ranking"
   ]
  },
  {
   "cell_type": "code",
   "execution_count": 66,
   "id": "7859b302",
   "metadata": {},
   "outputs": [
    {
     "data": {
      "text/plain": [
       "<matplotlib.colorbar.Colorbar at 0x7fafde03a650>"
      ]
     },
     "execution_count": 66,
     "metadata": {},
     "output_type": "execute_result"
    },
    {
     "data": {
      "image/png": "[encoded data removed]",
      "text/plain": [
       "<Figure size 432x288 with 2 Axes>"
      ]
     },
     "metadata": {
      "needs_background": "light"
     },
     "output_type": "display_data"
    }
   ],
   "source": [
    "im = plt.imshow(angle_array, cmap='coolwarm')\n",
    "plt.colorbar(im)"
   ]
  },
  {
   "cell_type": "code",
   "execution_count": 63,
   "id": "c9440873",
   "metadata": {},
   "outputs": [
    {
     "data": {
      "text/html": [
       "<div>\n",
       "<style scoped>\n",
       "    .dataframe tbody tr th:only-of-type {\n",
       "        vertical-align: middle;\n",
       "    }\n",
       "\n",
       "    .dataframe tbody tr th {\n",
       "        vertical-align: top;\n",
       "    }\n",
       "\n",
       "    .dataframe thead th {\n",
       "        text-align: right;\n",
       "    }\n",
       "</style>\n",
       "<table border=\"1\" class=\"dataframe\">\n",
       "  <thead>\n",
       "    <tr style=\"text-align: right;\">\n",
       "      <th></th>\n",
       "      <th>LAD20CD_left</th>\n",
       "      <th>LAD20CD_right</th>\n",
       "      <th>target_distance_rank</th>\n",
       "      <th>target_angle</th>\n",
       "    </tr>\n",
       "  </thead>\n",
       "  <tbody>\n",
       "  </tbody>\n",
       "</table>\n",
       "</div>"
      ],
      "text/plain": [
       "Empty DataFrame\n",
       "Columns: [LAD20CD_left, LAD20CD_right, target_distance_rank, target_angle]\n",
       "Index: []"
      ]
     },
     "execution_count": 63,
     "metadata": {},
     "output_type": "execute_result"
    }
   ],
   "source": [
    "distance_ranking[distance_ranking['LAD20CD_left']==distance_ranking['LAD20CD_right']]"
   ]
  },
  {
   "cell_type": "code",
   "execution_count": 52,
   "id": "c074a7a5",
   "metadata": {},
   "outputs": [
    {
     "data": {
      "text/plain": [
       "<matplotlib.image.AxesImage at 0x7fafe1176110>"
      ]
     },
     "execution_count": 52,
     "metadata": {},
     "output_type": "execute_result"
    },
    {
     "data": {
      "image/png": "[encoded data removed]",
      "text/plain": [
       "<Figure size 432x288 with 1 Axes>"
      ]
     },
     "metadata": {
      "needs_background": "light"
     },
     "output_type": "display_data"
    }
   ],
   "source": [
    "plt.imshow(distance_array)"
   ]
  },
  {
   "cell_type": "code",
   "execution_count": 69,
   "id": "9c2ce5e3",
   "metadata": {},
   "outputs": [],
   "source": [
    "# Measure the north-south and east-west ranking of all \n",
    "\n",
    "orientation_ranking = copy.copy(geodata)[['LAD20CD', 'centroid']]\n",
    "orientation_ranking['x'] = orientation_ranking['centroid'].apply(lambda c: c.xy[0][0])\n",
    "orientation_ranking['y'] = orientation_ranking['centroid'].apply(lambda c: c.xy[1][0])\n",
    "orientation_ranking['EW'] = orientation_ranking['x'].rank()\n",
    "orientation_ranking['NS'] = orientation_ranking['y'].rank()\n",
    "orientation_ranking = orientation_ranking[['LAD20CD', 'EW', 'NS']]\n",
    "\n",
    "northsouth_vector = [orientation_ranking[orientation_ranking['LAD20CD']==g]['NS'].values[0] for g in geo_list]\n",
    "westeast_vector = [orientation_ranking[orientation_ranking['LAD20CD']==g]['EW'].values[0] for g in geo_list]"
   ]
  },
  {
   "cell_type": "code",
   "execution_count": 75,
   "id": "c08937c5",
   "metadata": {},
   "outputs": [
    {
     "data": {
      "text/plain": [
       "[<matplotlib.lines.Line2D at 0x7fafdbcfaef0>]"
      ]
     },
     "execution_count": 75,
     "metadata": {},
     "output_type": "execute_result"
    },
    {
     "data": {
      "image/png": "[encoded data removed]",
      "text/plain": [
       "<Figure size 432x288 with 1 Axes>"
      ]
     },
     "metadata": {
      "needs_background": "light"
     },
     "output_type": "display_data"
    }
   ],
   "source": [
    "plt.plot(geo_list, northsouth_vector)\n",
    "plt.plot(geo_list, westeast_vector)"
   ]
  },
  {
   "cell_type": "code",
   "execution_count": null,
   "id": "d787f1eb",
   "metadata": {},
   "outputs": [],
   "source": []
  },
  {
   "cell_type": "code",
   "execution_count": null,
   "id": "a5028f0d",
   "metadata": {},
   "outputs": [],
   "source": []
  },
  {
   "cell_type": "code",
   "execution_count": null,
   "id": "e74eed80",
   "metadata": {},
   "outputs": [],
   "source": []
  },
  {
   "cell_type": "code",
   "execution_count": null,
   "id": "041327db",
   "metadata": {},
   "outputs": [],
   "source": []
  },
  {
   "cell_type": "code",
   "execution_count": 58,
   "id": "548e10e4",
   "metadata": {},
   "outputs": [],
   "source": [
    "number_of_geographies = len(geodata)\n",
    "\n",
    "max_number_of_spaces = 2 # in multiples of the number of input geographies\n",
    "\n",
    "\n",
    "\n",
    "initial_axis_ratio = (geodata.total_bounds[3]-geodata.total_bounds[1])/(geodata.total_bounds[2]-geodata.total_bounds[0])"
   ]
  },
  {
   "cell_type": "code",
   "execution_count": 99,
   "id": "b60115f1",
   "metadata": {},
   "outputs": [],
   "source": [
    "def make_integers(position_list):\n",
    "    # Turns a list of values into a list of integer values depending on the values' ranking\n",
    "    ranks = rankdata(position_list)\n",
    "    return np.array(ranks, dtype=int)-1\n",
    "\n",
    "\n",
    "def make_grid(\n",
    "    requested_number, # Target number of positions in the grid\n",
    "    axis_ratio, # Target axis ratio\n",
    "    actual_number=number_of_geographies, # Number of geographies which have to fit in the grid\n",
    "    min_spaces=0, # Minimum multiple of actual_number which can be occupied by empties\n",
    "    max_spaces=max_number_of_spaces # Maximum multiple of actual_number which can be occupied by empties\n",
    "):    \n",
    "    \n",
    "    # Define basic naive dimensions\n",
    "    X_size = int(np.round(np.sqrt(requested_number/axis_ratio)))\n",
    "    Y_size = int(np.round(axis_ratio*X_size))    \n",
    "    grid_size = X_size*Y_size\n",
    "    \n",
    "    # Adjust the X-size up or down to accommodate min_spaces and max_spaces\n",
    "    while grid_size <= (min_spaces+1)*actual_number:\n",
    "        X_size = X_size+1\n",
    "        grid_size = X_size*Y_size\n",
    "    while grid_size >= (max_spaces+1)*actual_number:\n",
    "        X_size = X_size-1\n",
    "        grid_size = X_size*Y_size\n",
    "    \n",
    "    # Return the final grid dimensions\n",
    "    return (X_size, Y_size)\n",
    "\n",
    "\n",
    "def number_of_empties(grid_dims, actual_number=number_of_geographies):\n",
    "    return np.product(grid_dims)-actual_number\n",
    "\n",
    "def make_positions_2d(grid_dims, position_list):\n",
    "    return np.unravel_index(position_list, grid_dims, order='F')\n",
    "\n",
    "def distance_matrix(x_list, y_list):\n",
    "    a = [rankdata([np.sqrt((x1-x2)**2 + (y1-y2)**2) for x1,y1 in zip(x_list, y_list)])-1 for x2,y2 in zip(x_list, y_list)]\n",
    "    return np.array(a)\n",
    "\n",
    "def orientation_order(x_list, y_list):    \n",
    "    return rankdata(y_list)-1, rankdata(x_list)-1 # NS, EW\n",
    "    \n",
    "    \n",
    "def compare_\n"
   ]
  },
  {
   "cell_type": "code",
   "execution_count": 59,
   "id": "616c665d",
   "metadata": {},
   "outputs": [
    {
     "data": {
      "text/plain": [
       "(5, 6)"
      ]
     },
     "execution_count": 59,
     "metadata": {},
     "output_type": "execute_result"
    }
   ],
   "source": [
    "make_grid(32.6, initial_axis_ratio)"
   ]
  },
  {
   "cell_type": "code",
   "execution_count": 78,
   "id": "d9f90394",
   "metadata": {},
   "outputs": [
    {
     "data": {
      "text/plain": [
       "(array([ 3.,  3.,  3.,  3.,  3.,  8.,  8.,  8.,  8.,  8., 13., 13., 13.,\n",
       "        13., 13., 18., 18., 18., 18., 18., 23., 23., 23., 23., 23.]),\n",
       " array([ 3.,  8., 13., 18., 23.,  3.,  8., 13., 18., 23.,  3.,  8., 13.,\n",
       "        18., 23.,  3.,  8., 13., 18., 23.,  3.,  8., 13., 18., 23.]))"
      ]
     },
     "execution_count": 78,
     "metadata": {},
     "output_type": "execute_result"
    }
   ],
   "source": [
    "orientation_order(*make_positions_2d((5,5), range(25)))"
   ]
  },
  {
   "cell_type": "code",
   "execution_count": 101,
   "id": "6cf25a2b",
   "metadata": {},
   "outputs": [
    {
     "data": {
      "text/plain": [
       "<matplotlib.image.AxesImage at 0x7f71fa8a0dc0>"
      ]
     },
     "execution_count": 101,
     "metadata": {},
     "output_type": "execute_result"
    },
    {
     "data": {
      "image/png": "[encoded data removed]",
      "text/plain": [
       "<Figure size 432x288 with 1 Axes>"
      ]
     },
     "metadata": {
      "needs_background": "light"
     },
     "output_type": "display_data"
    }
   ],
   "source": [
    "positions = make_integers(np.random.random(25))\n",
    "locations = make_positions_2d((5,5), positions)\n",
    "\n",
    "plt.imshow(distance_matrix(*locations))"
   ]
  },
  {
   "cell_type": "code",
   "execution_count": 97,
   "id": "d03fcd39",
   "metadata": {},
   "outputs": [
    {
     "data": {
      "text/plain": [
       "(array([0, 0, 0, 0, 0, 1, 1, 1, 1, 1, 2, 2, 2, 2, 2, 3, 3, 3, 3, 3, 4, 4,\n",
       "        4, 4, 4]),\n",
       " array([0, 1, 2, 3, 4, 0, 1, 2, 3, 4, 0, 1, 2, 3, 4, 0, 1, 2, 3, 4, 0, 1,\n",
       "        2, 3, 4]))"
      ]
     },
     "execution_count": 97,
     "metadata": {},
     "output_type": "execute_result"
    }
   ],
   "source": [
    "np.unravel_index(range(25), (5,5))"
   ]
  },
  {
   "cell_type": "code",
   "execution_count": 98,
   "id": "cc47d845",
   "metadata": {},
   "outputs": [
    {
     "data": {
      "text/plain": [
       "array([25,  7,  4,  6, 12, 10, 19,  9, 13,  8, 24, 11, 22, 14, 16, 21,  1,\n",
       "        3,  5, 18,  2, 20, 15, 23, 17])"
      ]
     },
     "execution_count": 98,
     "metadata": {},
     "output_type": "execute_result"
    }
   ],
   "source": [
    "positions"
   ]
  }
 ],
 "metadata": {
  "kernelspec": {
   "display_name": "Python 3 (ipykernel)",
   "language": "python",
   "name": "python3"
  },
  "language_info": {
   "codemirror_mode": {
    "name": "ipython",
    "version": 3
   },
   "file_extension": ".py",
   "mimetype": "text/x-python",
   "name": "python",
   "nbconvert_exporter": "python",
   "pygments_lexer": "ipython3",
   "version": "3.10.4"
  }
 },
 "nbformat": 4,
 "nbformat_minor": 5
}
