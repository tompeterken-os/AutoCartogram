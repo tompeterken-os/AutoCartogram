{
 "cells": [
  {
   "cell_type": "code",
   "execution_count": 149,
   "id": "d3e4f534",
   "metadata": {},
   "outputs": [],
   "source": [
    "import geopandas as gpd\n",
    "import pandas as pd\n",
    "import numpy as np\n",
    "import matplotlib.pyplot as plt\n",
    "# import random\n",
    "# from shapely.geometry import Point\n",
    "import copy\n",
    "import time\n",
    "import bisect\n",
    "from scipy.stats import rankdata\n",
    "from scipy import optimize as opt"
   ]
  },
  {
   "cell_type": "code",
   "execution_count": null,
   "id": "2c74c2f7",
   "metadata": {},
   "outputs": [],
   "source": [
    "# NOTES\n",
    "# Distance ranking: make sure in the grid view that equal distances give equal ranking\n",
    " # (Same for orientation rankings)"
   ]
  },
  {
   "cell_type": "code",
   "execution_count": 204,
   "id": "c2514ead",
   "metadata": {},
   "outputs": [],
   "source": [
    "geodata = gpd.read_file('./Data/LADs.geojson').to_crs('epsg:27700')\n",
    "# geodata = geodata[['E09' in c for c in geodata['LAD20CD']]][['LAD20CD', 'LAD20NM', 'geometry']]\n",
    "geodata = geodata[['W' in c for c in geodata['LAD20CD']]][['LAD20CD', 'LAD20NM', 'geometry']]\n",
    "geodata['dummy'] = geodata['geometry'].apply(lambda g: 1)\n",
    "geodata['centroid'] = geodata.centroid\n",
    "\n",
    "geo_list = geodata['LAD20CD'].values # Definitive list with definitive order of geometry codes\n",
    "name_list = geodata['LAD20NM'].values\n",
    "\n",
    "geo_to_index_lookup = {}\n",
    "geo_to_name_lookup = {}\n",
    "index_to_geo_lookup = {}\n",
    "index_to_name_lookup = {}\n",
    "for num, g, name in zip(range(len(geo_list)), geo_list, name_list):\n",
    "    geo_to_index_lookup[g] = num\n",
    "    geo_to_name_lookup[g] = name\n",
    "    index_to_geo_lookup[num] = g\n",
    "    index_to_name_lookup[num] = name"
   ]
  },
  {
   "cell_type": "code",
   "execution_count": 45,
   "id": "c6b1c149",
   "metadata": {},
   "outputs": [
    {
     "data": {
      "text/plain": [
       "<AxesSubplot:>"
      ]
     },
     "execution_count": 45,
     "metadata": {},
     "output_type": "execute_result"
    },
    {
     "data": {
      "image/png": "[encoded data removed]",
      "text/plain": [
       "<Figure size 432x288 with 1 Axes>"
      ]
     },
     "metadata": {
      "needs_background": "light"
     },
     "output_type": "display_data"
    }
   ],
   "source": [
    "geodata.plot()"
   ]
  },
  {
   "cell_type": "code",
   "execution_count": 46,
   "id": "dcc2dc7c",
   "metadata": {},
   "outputs": [
    {
     "data": {
      "text/html": [
       "<div>\n",
       "<style scoped>\n",
       "    .dataframe tbody tr th:only-of-type {\n",
       "        vertical-align: middle;\n",
       "    }\n",
       "\n",
       "    .dataframe tbody tr th {\n",
       "        vertical-align: top;\n",
       "    }\n",
       "\n",
       "    .dataframe thead th {\n",
       "        text-align: right;\n",
       "    }\n",
       "</style>\n",
       "<table border=\"1\" class=\"dataframe\">\n",
       "  <thead>\n",
       "    <tr style=\"text-align: right;\">\n",
       "      <th></th>\n",
       "      <th>LAD20CD</th>\n",
       "      <th>LAD20NM</th>\n",
       "      <th>geometry</th>\n",
       "      <th>dummy</th>\n",
       "      <th>centroid</th>\n",
       "    </tr>\n",
       "  </thead>\n",
       "  <tbody>\n",
       "    <tr>\n",
       "      <th>357</th>\n",
       "      <td>W06000001</td>\n",
       "      <td>Isle of Anglesey</td>\n",
       "      <td>POLYGON ((240000.004 394577.908, 240445.514 39...</td>\n",
       "      <td>1</td>\n",
       "      <td>POINT (241835.228 379233.676)</td>\n",
       "    </tr>\n",
       "    <tr>\n",
       "      <th>358</th>\n",
       "      <td>W06000002</td>\n",
       "      <td>Gwynedd</td>\n",
       "      <td>MULTIPOLYGON (((267978.708 372366.304, 270868....</td>\n",
       "      <td>1</td>\n",
       "      <td>POINT (264136.399 334667.737)</td>\n",
       "    </tr>\n",
       "    <tr>\n",
       "      <th>359</th>\n",
       "      <td>W06000003</td>\n",
       "      <td>Conwy</td>\n",
       "      <td>POLYGON ((299724.870 380889.607, 300371.113 37...</td>\n",
       "      <td>1</td>\n",
       "      <td>POINT (284072.324 361552.108)</td>\n",
       "    </tr>\n",
       "    <tr>\n",
       "      <th>360</th>\n",
       "      <td>W06000004</td>\n",
       "      <td>Denbighshire</td>\n",
       "      <td>POLYGON ((324414.214 353387.707, 323145.711 35...</td>\n",
       "      <td>1</td>\n",
       "      <td>POINT (309507.880 355562.623)</td>\n",
       "    </tr>\n",
       "    <tr>\n",
       "      <th>361</th>\n",
       "      <td>W06000005</td>\n",
       "      <td>Flintshire</td>\n",
       "      <td>MULTIPOLYGON (((313293.515 382786.601, 315287....</td>\n",
       "      <td>1</td>\n",
       "      <td>POINT (322547.437 368615.133)</td>\n",
       "    </tr>\n",
       "    <tr>\n",
       "      <th>362</th>\n",
       "      <td>W06000006</td>\n",
       "      <td>Wrexham</td>\n",
       "      <td>POLYGON ((351298.712 343127.004, 350716.010 34...</td>\n",
       "      <td>1</td>\n",
       "      <td>POINT (331695.185 344175.768)</td>\n",
       "    </tr>\n",
       "    <tr>\n",
       "      <th>363</th>\n",
       "      <td>W06000008</td>\n",
       "      <td>Ceredigion</td>\n",
       "      <td>POLYGON ((279749.210 249226.602, 277768.013 24...</td>\n",
       "      <td>1</td>\n",
       "      <td>POINT (258559.569 263733.729)</td>\n",
       "    </tr>\n",
       "    <tr>\n",
       "      <th>364</th>\n",
       "      <td>W06000009</td>\n",
       "      <td>Pembrokeshire</td>\n",
       "      <td>MULTIPOLYGON (((216364.016 243983.404, 217396....</td>\n",
       "      <td>1</td>\n",
       "      <td>POINT (201337.424 221180.436)</td>\n",
       "    </tr>\n",
       "    <tr>\n",
       "      <th>365</th>\n",
       "      <td>W06000010</td>\n",
       "      <td>Carmarthenshire</td>\n",
       "      <td>POLYGON ((279749.210 249226.602, 282307.116 24...</td>\n",
       "      <td>1</td>\n",
       "      <td>POINT (251556.904 225139.754)</td>\n",
       "    </tr>\n",
       "    <tr>\n",
       "      <th>366</th>\n",
       "      <td>W06000011</td>\n",
       "      <td>Swansea</td>\n",
       "      <td>MULTIPOLYGON (((262123.115 210278.302, 264479....</td>\n",
       "      <td>1</td>\n",
       "      <td>POINT (258170.595 195828.191)</td>\n",
       "    </tr>\n",
       "    <tr>\n",
       "      <th>367</th>\n",
       "      <td>W06000012</td>\n",
       "      <td>Neath Port Talbot</td>\n",
       "      <td>POLYGON ((275483.512 211465.301, 277901.616 20...</td>\n",
       "      <td>1</td>\n",
       "      <td>POINT (279710.728 199475.964)</td>\n",
       "    </tr>\n",
       "    <tr>\n",
       "      <th>368</th>\n",
       "      <td>W06000013</td>\n",
       "      <td>Bridgend</td>\n",
       "      <td>POLYGON ((296179.514 180365.102, 293926.115 17...</td>\n",
       "      <td>1</td>\n",
       "      <td>POINT (289261.086 185303.662)</td>\n",
       "    </tr>\n",
       "    <tr>\n",
       "      <th>369</th>\n",
       "      <td>W06000014</td>\n",
       "      <td>Vale of Glamorgan</td>\n",
       "      <td>MULTIPOLYGON (((302165.914 179592.505, 302783....</td>\n",
       "      <td>1</td>\n",
       "      <td>POINT (302837.916 172825.539)</td>\n",
       "    </tr>\n",
       "    <tr>\n",
       "      <th>370</th>\n",
       "      <td>W06000015</td>\n",
       "      <td>Cardiff</td>\n",
       "      <td>POLYGON ((322508.409 183565.008, 325932.914 18...</td>\n",
       "      <td>1</td>\n",
       "      <td>POINT (316429.793 179758.895)</td>\n",
       "    </tr>\n",
       "    <tr>\n",
       "      <th>371</th>\n",
       "      <td>W06000016</td>\n",
       "      <td>Rhondda Cynon Taf</td>\n",
       "      <td>POLYGON ((300546.815 214081.303, 300743.609 21...</td>\n",
       "      <td>1</td>\n",
       "      <td>POINT (300727.655 195600.211)</td>\n",
       "    </tr>\n",
       "    <tr>\n",
       "      <th>372</th>\n",
       "      <td>W06000018</td>\n",
       "      <td>Caerphilly</td>\n",
       "      <td>POLYGON ((322947.410 199706.208, 323910.210 19...</td>\n",
       "      <td>1</td>\n",
       "      <td>POINT (316772.372 195606.935)</td>\n",
       "    </tr>\n",
       "    <tr>\n",
       "      <th>373</th>\n",
       "      <td>W06000019</td>\n",
       "      <td>Blaenau Gwent</td>\n",
       "      <td>POLYGON ((320318.110 213680.006, 321092.609 21...</td>\n",
       "      <td>1</td>\n",
       "      <td>POINT (317687.889 208263.319)</td>\n",
       "    </tr>\n",
       "    <tr>\n",
       "      <th>374</th>\n",
       "      <td>W06000020</td>\n",
       "      <td>Torfaen</td>\n",
       "      <td>POLYGON ((333723.012 192653.907, 331617.809 19...</td>\n",
       "      <td>1</td>\n",
       "      <td>POINT (327271.207 200527.491)</td>\n",
       "    </tr>\n",
       "    <tr>\n",
       "      <th>375</th>\n",
       "      <td>W06000021</td>\n",
       "      <td>Monmouthshire</td>\n",
       "      <td>POLYGON ((355272.716 214366.801, 354547.712 21...</td>\n",
       "      <td>1</td>\n",
       "      <td>POINT (339908.627 207883.316)</td>\n",
       "    </tr>\n",
       "    <tr>\n",
       "      <th>376</th>\n",
       "      <td>W06000022</td>\n",
       "      <td>Newport</td>\n",
       "      <td>POLYGON ((343091.766 184213.492, 340000.004 18...</td>\n",
       "      <td>1</td>\n",
       "      <td>POINT (333160.397 187189.889)</td>\n",
       "    </tr>\n",
       "    <tr>\n",
       "      <th>377</th>\n",
       "      <td>W06000023</td>\n",
       "      <td>Powys</td>\n",
       "      <td>POLYGON ((322891.616 333139.303, 323688.509 33...</td>\n",
       "      <td>1</td>\n",
       "      <td>POINT (303988.076 270511.052)</td>\n",
       "    </tr>\n",
       "    <tr>\n",
       "      <th>378</th>\n",
       "      <td>W06000024</td>\n",
       "      <td>Merthyr Tydfil</td>\n",
       "      <td>POLYGON ((308057.316 211036.204, 308367.116 20...</td>\n",
       "      <td>1</td>\n",
       "      <td>POINT (306057.506 205651.722)</td>\n",
       "    </tr>\n",
       "  </tbody>\n",
       "</table>\n",
       "</div>"
      ],
      "text/plain": [
       "       LAD20CD            LAD20NM  \\\n",
       "357  W06000001   Isle of Anglesey   \n",
       "358  W06000002            Gwynedd   \n",
       "359  W06000003              Conwy   \n",
       "360  W06000004       Denbighshire   \n",
       "361  W06000005         Flintshire   \n",
       "362  W06000006            Wrexham   \n",
       "363  W06000008         Ceredigion   \n",
       "364  W06000009      Pembrokeshire   \n",
       "365  W06000010    Carmarthenshire   \n",
       "366  W06000011            Swansea   \n",
       "367  W06000012  Neath Port Talbot   \n",
       "368  W06000013           Bridgend   \n",
       "369  W06000014  Vale of Glamorgan   \n",
       "370  W06000015            Cardiff   \n",
       "371  W06000016  Rhondda Cynon Taf   \n",
       "372  W06000018         Caerphilly   \n",
       "373  W06000019      Blaenau Gwent   \n",
       "374  W06000020            Torfaen   \n",
       "375  W06000021      Monmouthshire   \n",
       "376  W06000022            Newport   \n",
       "377  W06000023              Powys   \n",
       "378  W06000024     Merthyr Tydfil   \n",
       "\n",
       "                                              geometry  dummy  \\\n",
       "357  POLYGON ((240000.004 394577.908, 240445.514 39...      1   \n",
       "358  MULTIPOLYGON (((267978.708 372366.304, 270868....      1   \n",
       "359  POLYGON ((299724.870 380889.607, 300371.113 37...      1   \n",
       "360  POLYGON ((324414.214 353387.707, 323145.711 35...      1   \n",
       "361  MULTIPOLYGON (((313293.515 382786.601, 315287....      1   \n",
       "362  POLYGON ((351298.712 343127.004, 350716.010 34...      1   \n",
       "363  POLYGON ((279749.210 249226.602, 277768.013 24...      1   \n",
       "364  MULTIPOLYGON (((216364.016 243983.404, 217396....      1   \n",
       "365  POLYGON ((279749.210 249226.602, 282307.116 24...      1   \n",
       "366  MULTIPOLYGON (((262123.115 210278.302, 264479....      1   \n",
       "367  POLYGON ((275483.512 211465.301, 277901.616 20...      1   \n",
       "368  POLYGON ((296179.514 180365.102, 293926.115 17...      1   \n",
       "369  MULTIPOLYGON (((302165.914 179592.505, 302783....      1   \n",
       "370  POLYGON ((322508.409 183565.008, 325932.914 18...      1   \n",
       "371  POLYGON ((300546.815 214081.303, 300743.609 21...      1   \n",
       "372  POLYGON ((322947.410 199706.208, 323910.210 19...      1   \n",
       "373  POLYGON ((320318.110 213680.006, 321092.609 21...      1   \n",
       "374  POLYGON ((333723.012 192653.907, 331617.809 19...      1   \n",
       "375  POLYGON ((355272.716 214366.801, 354547.712 21...      1   \n",
       "376  POLYGON ((343091.766 184213.492, 340000.004 18...      1   \n",
       "377  POLYGON ((322891.616 333139.303, 323688.509 33...      1   \n",
       "378  POLYGON ((308057.316 211036.204, 308367.116 20...      1   \n",
       "\n",
       "                          centroid  \n",
       "357  POINT (241835.228 379233.676)  \n",
       "358  POINT (264136.399 334667.737)  \n",
       "359  POINT (284072.324 361552.108)  \n",
       "360  POINT (309507.880 355562.623)  \n",
       "361  POINT (322547.437 368615.133)  \n",
       "362  POINT (331695.185 344175.768)  \n",
       "363  POINT (258559.569 263733.729)  \n",
       "364  POINT (201337.424 221180.436)  \n",
       "365  POINT (251556.904 225139.754)  \n",
       "366  POINT (258170.595 195828.191)  \n",
       "367  POINT (279710.728 199475.964)  \n",
       "368  POINT (289261.086 185303.662)  \n",
       "369  POINT (302837.916 172825.539)  \n",
       "370  POINT (316429.793 179758.895)  \n",
       "371  POINT (300727.655 195600.211)  \n",
       "372  POINT (316772.372 195606.935)  \n",
       "373  POINT (317687.889 208263.319)  \n",
       "374  POINT (327271.207 200527.491)  \n",
       "375  POINT (339908.627 207883.316)  \n",
       "376  POINT (333160.397 187189.889)  \n",
       "377  POINT (303988.076 270511.052)  \n",
       "378  POINT (306057.506 205651.722)  "
      ]
     },
     "execution_count": 46,
     "metadata": {},
     "output_type": "execute_result"
    }
   ],
   "source": [
    "geodata"
   ]
  },
  {
   "cell_type": "code",
   "execution_count": 47,
   "id": "576338c3",
   "metadata": {},
   "outputs": [
    {
     "name": "stderr",
     "output_type": "stream",
     "text": [
      "/home/tpeterken/anaconda3/envs/AutoCartogram/lib/python3.10/site-packages/pandas/core/dtypes/inference.py:383: ShapelyDeprecationWarning: Iteration over multi-part geometries is deprecated and will be removed in Shapely 2.0. Use the `geoms` property to access the constituent parts of a multi-part geometry.\n",
      "  iter(obj)  # Can iterate over it.\n",
      "/home/tpeterken/anaconda3/envs/AutoCartogram/lib/python3.10/site-packages/pandas/core/dtypes/inference.py:384: ShapelyDeprecationWarning: __len__ for multi-part geometries is deprecated and will be removed in Shapely 2.0. Check the length of the `geoms` property instead to get the  number of parts of a multi-part geometry.\n",
      "  len(obj)  # Has a length associated with it.\n",
      "/home/tpeterken/anaconda3/envs/AutoCartogram/lib/python3.10/site-packages/pandas/core/dtypes/cast.py:1981: ShapelyDeprecationWarning: __len__ for multi-part geometries is deprecated and will be removed in Shapely 2.0. Check the length of the `geoms` property instead to get the  number of parts of a multi-part geometry.\n",
      "  result[:] = values\n",
      "/home/tpeterken/anaconda3/envs/AutoCartogram/lib/python3.10/site-packages/pandas/core/dtypes/cast.py:122: ShapelyDeprecationWarning: The array interface is deprecated and will no longer work in Shapely 2.0. Convert the '.coords' to a numpy array instead.\n",
      "  arr = construct_1d_object_array_from_listlike(values)\n"
     ]
    }
   ],
   "source": [
    "def make_df_array(row_labels, col_labels, values):\n",
    "    \n",
    "    dtype = values.dtype\n",
    "    array = np.zeros((len(geo_list), len(geo_list)), dtype=dtype)\n",
    "    \n",
    "    for row_lab, col_lab, value in zip(row_labels, col_labels, values):\n",
    "        array[geo_to_index_lookup[row_lab], geo_to_index_lookup[col_lab]] = value\n",
    "            \n",
    "    return array\n",
    "\n",
    "\n",
    "\n",
    "# Identify which geometries are neighbours\n",
    "\n",
    "g_copygeo = copy.copy(geodata)\n",
    "g_copygeo['geocopy'] = g_copygeo.geometry\n",
    "\n",
    "# Find all geometries which touch each other\n",
    "neighbours = g_copygeo.sjoin(g_copygeo, how='inner', predicate='touches')\n",
    "neighbours = neighbours.loc[neighbours['LAD20CD_left']!=neighbours['LAD20CD_right']]\n",
    "\n",
    "# Find the length of the border as a fraction of the left geometry's total border\n",
    "neighbours['intersection'] = neighbours.apply(lambda row: row['geocopy_left'].intersection(row['geocopy_right']), axis=1)\n",
    "neighbours['weight'] = neighbours.apply(lambda row: row['intersection'].length/row['geocopy_left'].length, axis=1)\n",
    "\n",
    "neighbours = neighbours[['LAD20CD_left', 'LAD20CD_right', 'weight']]\n",
    "\n",
    "neighbours_array = make_df_array(neighbours['LAD20CD_left'].values, neighbours['LAD20CD_right'].values, neighbours['weight'].values)"
   ]
  },
  {
   "cell_type": "code",
   "execution_count": 48,
   "id": "2ecdc71e",
   "metadata": {},
   "outputs": [
    {
     "data": {
      "text/plain": [
       "<matplotlib.colorbar.Colorbar at 0x7f1f90ad0550>"
      ]
     },
     "execution_count": 48,
     "metadata": {},
     "output_type": "execute_result"
    },
    {
     "data": {
      "image/png": "[encoded data removed]",
      "text/plain": [
       "<Figure size 864x864 with 2 Axes>"
      ]
     },
     "metadata": {
      "needs_background": "light"
     },
     "output_type": "display_data"
    }
   ],
   "source": [
    "f, ax = plt.subplots(figsize=(12,12))\n",
    "im = ax.imshow(neighbours_array, vmax=0.3)\n",
    "plt.colorbar(im, shrink=0.4)"
   ]
  },
  {
   "cell_type": "code",
   "execution_count": 50,
   "id": "a6a9f0e9",
   "metadata": {},
   "outputs": [],
   "source": [
    "# Measure the distance between each pair of geometries\n",
    "\n",
    "def angle_between(loca, locb):\n",
    "    xa, ya = loca.xy\n",
    "    xb, yb = locb.xy    \n",
    "    return np.arctan2(yb[0]-ya[0], xb[0]-xa[0])\n",
    "\n",
    "crossjoin = geodata.merge(geodata, how='inner', on='dummy', suffixes=('_left', '_right'))\n",
    "crossjoin = crossjoin.loc[crossjoin['LAD20CD_left']!=crossjoin['LAD20CD_right']]\n",
    "crossjoin['distance'] = crossjoin.apply(lambda row: row['geometry_left'].distance(row['geometry_right']), axis=1)\n",
    "crossjoin['target_distance_rank'] = crossjoin.groupby('LAD20CD_left')['distance'].rank()\n",
    "crossjoin['target_angle'] = crossjoin.apply(lambda row: angle_between(row['centroid_left'], row['centroid_right']), axis=1)\n",
    "distance_ranking = crossjoin[['LAD20CD_left', 'LAD20CD_right', 'target_distance_rank', 'target_angle']]\n",
    "\n",
    "distance_array = make_df_array(distance_ranking['LAD20CD_left'].values, distance_ranking['LAD20CD_right'], distance_ranking['target_distance_rank'].values)\n",
    "angle_array = make_df_array(distance_ranking['LAD20CD_left'].values, distance_ranking['LAD20CD_right'], distance_ranking['target_angle'].values)"
   ]
  },
  {
   "cell_type": "code",
   "execution_count": 51,
   "id": "809792e0",
   "metadata": {},
   "outputs": [
    {
     "data": {
      "text/html": [
       "<div>\n",
       "<style scoped>\n",
       "    .dataframe tbody tr th:only-of-type {\n",
       "        vertical-align: middle;\n",
       "    }\n",
       "\n",
       "    .dataframe tbody tr th {\n",
       "        vertical-align: top;\n",
       "    }\n",
       "\n",
       "    .dataframe thead th {\n",
       "        text-align: right;\n",
       "    }\n",
       "</style>\n",
       "<table border=\"1\" class=\"dataframe\">\n",
       "  <thead>\n",
       "    <tr style=\"text-align: right;\">\n",
       "      <th></th>\n",
       "      <th>LAD20CD_left</th>\n",
       "      <th>LAD20CD_right</th>\n",
       "      <th>target_distance_rank</th>\n",
       "      <th>target_angle</th>\n",
       "    </tr>\n",
       "  </thead>\n",
       "  <tbody>\n",
       "    <tr>\n",
       "      <th>1</th>\n",
       "      <td>W06000001</td>\n",
       "      <td>W06000002</td>\n",
       "      <td>1.0</td>\n",
       "      <td>-1.106822</td>\n",
       "    </tr>\n",
       "    <tr>\n",
       "      <th>2</th>\n",
       "      <td>W06000001</td>\n",
       "      <td>W06000003</td>\n",
       "      <td>2.0</td>\n",
       "      <td>-0.396460</td>\n",
       "    </tr>\n",
       "    <tr>\n",
       "      <th>3</th>\n",
       "      <td>W06000001</td>\n",
       "      <td>W06000004</td>\n",
       "      <td>3.0</td>\n",
       "      <td>-0.336486</td>\n",
       "    </tr>\n",
       "    <tr>\n",
       "      <th>4</th>\n",
       "      <td>W06000001</td>\n",
       "      <td>W06000005</td>\n",
       "      <td>4.0</td>\n",
       "      <td>-0.130809</td>\n",
       "    </tr>\n",
       "    <tr>\n",
       "      <th>5</th>\n",
       "      <td>W06000001</td>\n",
       "      <td>W06000006</td>\n",
       "      <td>6.0</td>\n",
       "      <td>-0.371977</td>\n",
       "    </tr>\n",
       "    <tr>\n",
       "      <th>...</th>\n",
       "      <td>...</td>\n",
       "      <td>...</td>\n",
       "      <td>...</td>\n",
       "      <td>...</td>\n",
       "    </tr>\n",
       "    <tr>\n",
       "      <th>478</th>\n",
       "      <td>W06000024</td>\n",
       "      <td>W06000019</td>\n",
       "      <td>4.0</td>\n",
       "      <td>0.220886</td>\n",
       "    </tr>\n",
       "    <tr>\n",
       "      <th>479</th>\n",
       "      <td>W06000024</td>\n",
       "      <td>W06000020</td>\n",
       "      <td>7.0</td>\n",
       "      <td>-0.237013</td>\n",
       "    </tr>\n",
       "    <tr>\n",
       "      <th>480</th>\n",
       "      <td>W06000024</td>\n",
       "      <td>W06000021</td>\n",
       "      <td>9.0</td>\n",
       "      <td>0.065829</td>\n",
       "    </tr>\n",
       "    <tr>\n",
       "      <th>481</th>\n",
       "      <td>W06000024</td>\n",
       "      <td>W06000022</td>\n",
       "      <td>10.0</td>\n",
       "      <td>-0.597980</td>\n",
       "    </tr>\n",
       "    <tr>\n",
       "      <th>482</th>\n",
       "      <td>W06000024</td>\n",
       "      <td>W06000023</td>\n",
       "      <td>2.0</td>\n",
       "      <td>1.602692</td>\n",
       "    </tr>\n",
       "  </tbody>\n",
       "</table>\n",
       "<p>462 rows × 4 columns</p>\n",
       "</div>"
      ],
      "text/plain": [
       "    LAD20CD_left LAD20CD_right  target_distance_rank  target_angle\n",
       "1      W06000001     W06000002                   1.0     -1.106822\n",
       "2      W06000001     W06000003                   2.0     -0.396460\n",
       "3      W06000001     W06000004                   3.0     -0.336486\n",
       "4      W06000001     W06000005                   4.0     -0.130809\n",
       "5      W06000001     W06000006                   6.0     -0.371977\n",
       "..           ...           ...                   ...           ...\n",
       "478    W06000024     W06000019                   4.0      0.220886\n",
       "479    W06000024     W06000020                   7.0     -0.237013\n",
       "480    W06000024     W06000021                   9.0      0.065829\n",
       "481    W06000024     W06000022                  10.0     -0.597980\n",
       "482    W06000024     W06000023                   2.0      1.602692\n",
       "\n",
       "[462 rows x 4 columns]"
      ]
     },
     "execution_count": 51,
     "metadata": {},
     "output_type": "execute_result"
    }
   ],
   "source": [
    "distance_ranking"
   ]
  },
  {
   "cell_type": "code",
   "execution_count": 52,
   "id": "7859b302",
   "metadata": {},
   "outputs": [
    {
     "data": {
      "text/plain": [
       "<matplotlib.colorbar.Colorbar at 0x7f1f90994d00>"
      ]
     },
     "execution_count": 52,
     "metadata": {},
     "output_type": "execute_result"
    },
    {
     "data": {
      "image/png": "[encoded data removed]",
      "text/plain": [
       "<Figure size 432x288 with 2 Axes>"
      ]
     },
     "metadata": {
      "needs_background": "light"
     },
     "output_type": "display_data"
    }
   ],
   "source": [
    "im = plt.imshow(angle_array, cmap='coolwarm')\n",
    "plt.colorbar(im)"
   ]
  },
  {
   "cell_type": "code",
   "execution_count": 53,
   "id": "c074a7a5",
   "metadata": {},
   "outputs": [
    {
     "data": {
      "text/plain": [
       "<matplotlib.image.AxesImage at 0x7f1fa12fd630>"
      ]
     },
     "execution_count": 53,
     "metadata": {},
     "output_type": "execute_result"
    },
    {
     "data": {
      "image/png": "[encoded data removed]",
      "text/plain": [
       "<Figure size 432x288 with 1 Axes>"
      ]
     },
     "metadata": {
      "needs_background": "light"
     },
     "output_type": "display_data"
    }
   ],
   "source": [
    "plt.imshow(distance_array)"
   ]
  },
  {
   "cell_type": "code",
   "execution_count": 54,
   "id": "9c2ce5e3",
   "metadata": {},
   "outputs": [],
   "source": [
    "# Measure the north-south and east-west ranking of all \n",
    "\n",
    "orientation_ranking = copy.copy(geodata)[['LAD20CD', 'centroid']]\n",
    "orientation_ranking['x'] = orientation_ranking['centroid'].apply(lambda c: c.xy[0][0])\n",
    "orientation_ranking['y'] = orientation_ranking['centroid'].apply(lambda c: c.xy[1][0])\n",
    "orientation_ranking['EW'] = orientation_ranking['x'].rank()\n",
    "orientation_ranking['NS'] = orientation_ranking['y'].rank()\n",
    "orientation_ranking = orientation_ranking[['LAD20CD', 'EW', 'NS']]\n",
    "\n",
    "northsouth_vector = [orientation_ranking[orientation_ranking['LAD20CD']==g]['NS'].values[0] for g in geo_list]\n",
    "westeast_vector = [orientation_ranking[orientation_ranking['LAD20CD']==g]['EW'].values[0] for g in geo_list]"
   ]
  },
  {
   "cell_type": "code",
   "execution_count": null,
   "id": "d787f1eb",
   "metadata": {},
   "outputs": [],
   "source": []
  },
  {
   "cell_type": "code",
   "execution_count": null,
   "id": "a5028f0d",
   "metadata": {},
   "outputs": [],
   "source": []
  },
  {
   "cell_type": "code",
   "execution_count": null,
   "id": "e74eed80",
   "metadata": {},
   "outputs": [],
   "source": []
  },
  {
   "cell_type": "code",
   "execution_count": null,
   "id": "041327db",
   "metadata": {},
   "outputs": [],
   "source": []
  },
  {
   "cell_type": "code",
   "execution_count": 412,
   "id": "548e10e4",
   "metadata": {},
   "outputs": [],
   "source": [
    "number_of_geographies = len(geodata)\n",
    "\n",
    "max_number_of_spaces = 2 # in multiples of the number of input geographies\n",
    "\n",
    "neighbour_distance_factor = 8\n",
    "packing_factor = 10\n",
    "orientation_factor = 70\n",
    "\n",
    "initial_axis_ratio = (geodata.total_bounds[3]-geodata.total_bounds[1])/(geodata.total_bounds[2]-geodata.total_bounds[0])"
   ]
  },
  {
   "cell_type": "code",
   "execution_count": 114,
   "id": "b60115f1",
   "metadata": {},
   "outputs": [],
   "source": [
    "def make_integer_positions(position_list, empty_list):\n",
    "    # Turns a list of values into a list of integer values depending on the values' ranking\n",
    "    all_positions = np.concatenate([position_list, empty_list])\n",
    "    ranks = rankdata(all_positions)\n",
    "    return np.array(ranks, dtype=int)[:len(position_list)]-1\n",
    "\n",
    "\n",
    "def make_grid(\n",
    "    requested_number, # Target number of positions in the grid\n",
    "    axis_ratio, # Target axis ratio\n",
    "    actual_number=number_of_geographies, # Number of geographies which have to fit in the grid\n",
    "    min_spaces=0, # Minimum multiple of actual_number which can be occupied by empties\n",
    "    max_spaces=max_number_of_spaces # Maximum multiple of actual_number which can be occupied by empties\n",
    "):    \n",
    "    \n",
    "    requested_number = (min_spaces+1)*actual_number if (min_spaces+1)*actual_number > requested_number else requested_number\n",
    "    requested_number = (max_spaces+1)*actual_number if (max_spaces+1)*actual_number < requested_number else requested_number\n",
    "    \n",
    "    # Define basic naive dimensions\n",
    "    X_size = int(np.round(np.sqrt(requested_number/axis_ratio)))\n",
    "    Y_size = int(np.round(axis_ratio*X_size))    \n",
    "    grid_size = X_size*Y_size\n",
    "    \n",
    "    # Adjust the X-size up or down to accommodate min_spaces and max_spaces\n",
    "    while grid_size <= (min_spaces+1)*actual_number:\n",
    "        X_size = X_size+1\n",
    "        grid_size = X_size*Y_size\n",
    "    while grid_size >= (max_spaces+1)*actual_number:\n",
    "        X_size = X_size-1\n",
    "        grid_size = X_size*Y_size\n",
    "    \n",
    "    # Return the final grid dimensions\n",
    "    return (X_size, Y_size)\n",
    "\n",
    "\n",
    "def number_of_empties(grid_dims, actual_number=number_of_geographies):\n",
    "    return np.product(grid_dims)-actual_number\n",
    "\n",
    "def make_positions_2d(grid_dims, position_list):\n",
    "    return np.unravel_index(position_list, grid_dims, order='F')\n",
    "\n",
    "def pad_array(array, num_empties):\n",
    "    return np.pad(array, [0, num_empties])\n",
    "\n",
    "def get_distance_matrix(x_list, y_list):\n",
    "    a = [rankdata([np.sqrt((x1-x2)**2 + (y1-y2)**2) for x1,y1 in zip(x_list, y_list)])-1 for x2,y2 in zip(x_list, y_list)]\n",
    "    return np.array(a)\n",
    "\n",
    "def orientation_order(x_list, y_list):    \n",
    "    return rankdata(y_list)-1, rankdata(x_list)-1 # NS, EW\n",
    "    \n",
    "    \n",
    "# def compare_\n"
   ]
  },
  {
   "cell_type": "code",
   "execution_count": 393,
   "id": "fe3962f5",
   "metadata": {},
   "outputs": [],
   "source": [
    "initial_positions = np.random.random(number_of_geographies*(1+max_number_of_spaces))"
   ]
  },
  {
   "cell_type": "code",
   "execution_count": 394,
   "id": "5d7a9be4",
   "metadata": {},
   "outputs": [
    {
     "data": {
      "text/plain": [
       "array([0.27051067, 0.63724198, 0.08174196, 0.04928288, 0.55320626,\n",
       "       0.87886599, 0.03584089, 0.74867034, 0.49504857, 0.47136592,\n",
       "       0.23230976, 0.39872256, 0.28840704, 0.03575077, 0.2813381 ,\n",
       "       0.87581255, 0.07469436, 0.48066877, 0.29027879, 0.22204983,\n",
       "       0.44673545, 0.90062372, 0.79768468, 0.99641116, 0.27591393,\n",
       "       0.09746995, 0.37292002, 0.26909291, 0.21363119, 0.9731515 ,\n",
       "       0.60923068, 0.87720316, 0.23041946, 0.64069349, 0.74787047,\n",
       "       0.01927694, 0.40857582, 0.47196096, 0.88011708, 0.78328836,\n",
       "       0.63664977, 0.09599238, 0.77501984, 0.22037367, 0.08137683,\n",
       "       0.76471231, 0.5344584 , 0.26576812, 0.17086808, 0.78288519,\n",
       "       0.27898947, 0.05764799, 0.27339082, 0.20159093, 0.8509643 ,\n",
       "       0.76751818, 0.54304191, 0.01534058, 0.40495632, 0.89318319,\n",
       "       0.98100339, 0.35662956, 0.56157546, 0.81507778, 0.5458574 ,\n",
       "       0.12462307])"
      ]
     },
     "execution_count": 394,
     "metadata": {},
     "output_type": "execute_result"
    }
   ],
   "source": [
    "initial_positions"
   ]
  },
  {
   "cell_type": "code",
   "execution_count": 172,
   "id": "d9f90394",
   "metadata": {},
   "outputs": [],
   "source": [
    "def get_metric_vector(grid_locations):\n",
    "    distance_matrix = get_distance_matrix(*grid_locations)\n",
    "    orientation_ordering = orientation_order(*grid_locations)\n",
    "\n",
    "    neighbour_metric_matrix = distance_matrix*neighbours_array\n",
    "    neighbour_metric_vector = neighbour_metric_matrix.sum(axis=1)\n",
    "\n",
    "    packing_metric_matrix = distance_matrix**2\n",
    "    packing_metric_vector = packing_metric_matrix.sum(axis=1)\n",
    "\n",
    "    orientation_metric_NS = (orientation_ordering[0]-northsouth_vector)**2\n",
    "    orientation_metric_EW = (orientation_ordering[1]-westeast_vector)**2\n",
    "    orientation_metric_vector = orientation_metric_NS+orientation_metric_EW\n",
    "    \n",
    "    metric_vector = (neighbour_distance_factor*neighbour_metric_vector) + (packing_factor*packing_metric_vector) + (orientation_factor*orientation_metric_vector)\n",
    "    \n",
    "    return metric_vector\n",
    "\n",
    "\n",
    "def get_total_metric(total_grid_spaces, axis_ratio, all_positions):\n",
    "    \n",
    "    occupied_positions = all_positions[:number_of_geographies]\n",
    "    empty_positions = all_positions[number_of_geographies:]\n",
    "    \n",
    "    grid_size = make_grid(total_grid_spaces, axis_ratio)\n",
    "    number_empties = number_of_empties(grid_size)\n",
    "    \n",
    "    int_positions = make_integer_positions(occupied_positions, empty_positions[:number_empties])\n",
    "    grid_locations = make_positions_2d(grid_size, int_positions)\n",
    "\n",
    "    metric_vector = get_metric_vector(grid_locations)\n",
    "    \n",
    "    return metric_vector, grid_locations\n",
    "\n",
    "\n",
    "def function_to_minimize(args):\n",
    "    return get_total_metric(args[0], args[1], args[2:])[0].sum()"
   ]
  },
  {
   "cell_type": "code",
   "execution_count": 197,
   "id": "c74362ea",
   "metadata": {},
   "outputs": [],
   "source": [
    "initial_args = np.concatenate([[1.5*number_of_geographies], [initial_axis_ratio], initial_positions])\n",
    "arg_bounds = np.concatenate([\n",
    "    [(number_of_geographies, (1+max_number_of_spaces)*number_of_geographies)],\n",
    "    [(0.5*initial_axis_ratio, 2*initial_axis_ratio)],\n",
    "    [(0,1)]*len(initial_positions)\n",
    "])"
   ]
  },
  {
   "cell_type": "code",
   "execution_count": 219,
   "id": "cdbda88c",
   "metadata": {},
   "outputs": [
    {
     "name": "stdout",
     "output_type": "stream",
     "text": [
      "60.3 minutes\n"
     ]
    }
   ],
   "source": [
    "# o = opt.minimize(function_to_minimize, initial_args, bounds=arg_bounds, options={'maxiter':100000})\n",
    "\n",
    "start_time = time.time()\n",
    "o = opt.dual_annealing(function_to_minimize, arg_bounds, x0=initial_args, maxiter=10000)\n",
    "end_time = time.time()\n",
    "\n",
    "print(str(np.round((end_time-start_time)/60, decimals=1))+' minutes')"
   ]
  },
  {
   "cell_type": "code",
   "execution_count": 220,
   "id": "aaafc405",
   "metadata": {},
   "outputs": [],
   "source": [
    "initial_metric_vector, in_positions = get_total_metric(initial_args[0], initial_args[1], initial_args[2:])\n",
    "final_metric_vector, f_positions = get_total_metric(o.x[0], o.x[1], o.x[2:])"
   ]
  },
  {
   "cell_type": "code",
   "execution_count": 221,
   "id": "61668120",
   "metadata": {},
   "outputs": [
    {
     "data": {
      "image/png": "[encoded data removed]",
      "text/plain": [
       "<Figure size 1008x648 with 2 Axes>"
      ]
     },
     "metadata": {
      "needs_background": "light"
     },
     "output_type": "display_data"
    }
   ],
   "source": [
    "import matplotlib as mpl\n",
    "\n",
    "cmap = mpl.cm.get_cmap('viridis')\n",
    "norm = mpl.colors.Normalize(vmin=np.min([initial_metric_vector.min(), final_metric_vector.min()]), vmax=np.min([initial_metric_vector.max(), final_metric_vector.max()]))\n",
    "\n",
    "f, axs = plt.subplots(figsize=(grid_size[0]*2, grid_size[1]), ncols=2)\n",
    "_ = [ax.axis('equal') for ax in axs]\n",
    "_ = [ax.axis('off') for ax in axs]\n",
    "\n",
    "# markers = ['o']*number_of_geographies+['.']*number_empties\n",
    "for geocode, v, x, y in zip(geo_list, initial_metric_vector, *in_positions):\n",
    "    c = cmap(norm(v))\n",
    "    axs[0].plot(x, y, 'o', color=c)\n",
    "    axs[0].annotate(geo_to_name_lookup[geocode], xy=(x,y-0.2), xytext=(0,0), textcoords=\"offset points\", ha='center', va='center', size='small')\n",
    "        \n",
    "for geocode, v, x, y in zip(geo_list, final_metric_vector, *f_positions):\n",
    "    c = cmap(norm(v))\n",
    "    axs[1].plot(x, y, 'o', color=c)\n",
    "    axs[1].annotate(geo_to_name_lookup[geocode], xy=(x,y-0.2), xytext=(0,0), textcoords=\"offset points\", ha='center', va='center', size='small')"
   ]
  },
  {
   "cell_type": "code",
   "execution_count": null,
   "id": "2401d225",
   "metadata": {},
   "outputs": [],
   "source": []
  },
  {
   "cell_type": "code",
   "execution_count": null,
   "id": "22369dca",
   "metadata": {},
   "outputs": [],
   "source": []
  },
  {
   "cell_type": "code",
   "execution_count": null,
   "id": "dcc0af2e",
   "metadata": {},
   "outputs": [],
   "source": []
  },
  {
   "cell_type": "code",
   "execution_count": 325,
   "id": "b201d79d",
   "metadata": {},
   "outputs": [],
   "source": [
    "max_move_jump = 2"
   ]
  },
  {
   "cell_type": "code",
   "execution_count": 223,
   "id": "75eb36d2",
   "metadata": {},
   "outputs": [],
   "source": [
    "all_positions = initial_positions"
   ]
  },
  {
   "cell_type": "code",
   "execution_count": 419,
   "id": "37143ba1",
   "metadata": {},
   "outputs": [],
   "source": [
    "occupied_positions = all_positions[:number_of_geographies]\n",
    "empty_positions = all_positions[number_of_geographies:]\n",
    "\n",
    "grid_size = make_grid(len(all_positions), initial_axis_ratio)\n",
    "number_empties = number_of_empties(grid_size)\n",
    "\n",
    "int_positions = make_integer_positions(occupied_positions, empty_positions[:number_empties])\n",
    "grid_locations = make_positions_2d(grid_size, int_positions)\n",
    "\n",
    "original_locations = copy.deepcopy(grid_locations)"
   ]
  },
  {
   "cell_type": "code",
   "execution_count": 414,
   "id": "2c765ab2",
   "metadata": {},
   "outputs": [],
   "source": [
    "def single_swap(old_locations, from_index, x_shift, y_shift):\n",
    "    \n",
    "    grid_locations = copy.deepcopy(old_locations)\n",
    "    \n",
    "    to_x = grid_locations[0][from_index]+x_shift\n",
    "    to_y = grid_locations[1][from_index]+y_shift\n",
    "    \n",
    "    existing_indices_at_destination = [\n",
    "        n for n,i in enumerate(list(zip(*grid_locations))) if i == (to_x, to_y)\n",
    "    ]\n",
    "    \n",
    "    if len(existing_indices_at_destination) > 0:\n",
    "        grid_locations[0][existing_indices_at_destination[0]] = grid_locations[0][from_index]\n",
    "        grid_locations[1][existing_indices_at_destination[0]] = grid_locations[1][from_index]\n",
    "            \n",
    "    grid_locations[0][from_index] = to_x\n",
    "    grid_locations[1][from_index] = to_y\n",
    "    \n",
    "    return grid_locations\n",
    "        \n",
    "\n",
    "\n",
    "def do_swaps(grid_locations, current_metric, index_to_swap):\n",
    "#     original_x = grid_locations[0][index_to_swap]\n",
    "#     original_y = grid_locations[1][index_to_swap]\n",
    "    \n",
    "    metrics = []\n",
    "    new_grid_locations = []\n",
    "    \n",
    "    for x_shift in range(-max_move_jump, max_move_jump+1):\n",
    "        for y_shift in range(-max_move_jump, max_move_jump+1):\n",
    "            if (x_shift, y_shift) != (0,0):\n",
    "                new_grid = single_swap(grid_locations, index_to_swap, x_shift, y_shift)\n",
    "                \n",
    "                metrics.append(get_metric_vector(new_grid).sum())\n",
    "                new_grid_locations.append(new_grid)\n",
    "                \n",
    "    min_metric = np.min(metrics)\n",
    "    if min_metric >= current_metric:\n",
    "        return None\n",
    "    else:\n",
    "        return new_grid_locations[np.argmin(metrics)]\n",
    "\n",
    "\n",
    "def do_iteration(grid_locations, grid_size):\n",
    "    \n",
    "    all_tested = False\n",
    "    iterate = True\n",
    "    \n",
    "    indices_available = np.ones(len(geo_list), dtype=float)\n",
    "    \n",
    "    start_metric_vector = get_metric_vector(grid_locations)\n",
    "    \n",
    "    while iterate:\n",
    "        index_to_test = np.argmax(start_metric_vector*indices_available)\n",
    "        new_grid = do_swaps(grid_locations, start_metric_vector.sum(), index_to_test)\n",
    "        \n",
    "        if new_grid is None:\n",
    "            indices_available[index_to_test] = 0\n",
    "            all_tested = indices_available.sum()==0\n",
    "            iterate = False if all_tested else True\n",
    "            new_grid = grid_locations\n",
    "        else:\n",
    "            iterate = False\n",
    "            \n",
    "    return new_grid\n",
    "    \n",
    "    "
   ]
  },
  {
   "cell_type": "code",
   "execution_count": 420,
   "id": "52d5c7b5",
   "metadata": {
    "scrolled": true
   },
   "outputs": [
    {
     "name": "stdout",
     "output_type": "stream",
     "text": [
      "it 0:  0.1 -- -17321.743226577993\n",
      "it 1:  0.1 -- -27901.986190660624\n",
      "it 2:  0.0 -- -11557.435332487337\n",
      "it 3:  0.0 -- -9425.002070171526\n",
      "it 4:  0.0 -- -12642.370793335373\n",
      "it 5:  0.1 -- -7221.37332280085\n",
      "it 6:  0.0 -- -27359.35785158619\n",
      "it 7:  0.0 -- -4017.0953940094914\n",
      "it 8:  0.0 -- -1443.7276164647192\n",
      "it 9:  0.0 -- -14612.498397194315\n",
      "it 10:  0.0 -- -10084.660534254042\n",
      "it 11:  0.0 -- -19054.134192465222\n",
      "it 12:  0.0 -- -13059.878380385344\n",
      "it 13:  0.0 -- -9682.738505767658\n",
      "it 14:  0.0 -- -6444.161181733478\n",
      "it 15:  0.0 -- -6602.237540330389\n",
      "it 16:  0.0 -- -10952.461835707189\n",
      "it 17:  0.0 -- -9830.847525233054\n",
      "it 18:  0.0 -- -6719.121347141569\n",
      "it 19:  0.0 -- -5240.710666957428\n",
      "it 20:  0.1 -- -5918.784981465898\n",
      "it 21:  0.0 -- -2575.56812967977\n",
      "it 22:  0.0 -- -8148.958589728107\n",
      "it 23:  0.0 -- -5101.016714594443\n",
      "it 24:  0.1 -- -6364.136404122924\n",
      "it 25:  0.1 -- -3819.944595160545\n",
      "it 26:  0.1 -- -4474.400018740678\n",
      "it 27:  0.0 -- -3338.8197933526244\n",
      "it 28:  0.0 -- -2022.3636564207263\n",
      "it 29:  0.0 -- -2948.442724550725\n",
      "it 30:  0.1 -- -1707.5321194133721\n",
      "it 31:  0.0 -- -4499.016735433135\n",
      "it 32:  0.0 -- -1812.8831929818261\n",
      "it 33:  0.0 -- -3405.3241389433388\n",
      "it 34:  0.0 -- -1470.8010127255693\n",
      "it 35:  0.1 -- -2173.1877863343107\n",
      "it 36:  0.1 -- -1318.9208574964432\n",
      "it 37:  0.1 -- -1074.296648013289\n",
      "it 38:  0.1 -- -105.6105393419275\n",
      "it 39:  0.1 -- -1098.065223104204\n",
      "it 40:  0.1 -- -1522.5256751617417\n",
      "it 41:  0.1 -- -546.0944687977899\n",
      "it 42:  0.1 -- -500.7889003884047\n",
      "it 43:  0.1 -- -508.0621535340324\n",
      "it 44:  0.0 -- -431.0309807275189\n",
      "it 45:  0.0 -- -76.33645010506734\n",
      "it 46:  0.0 -- -26.98675441578962\n",
      "it 47:  0.1 -- -125.52449020382483\n",
      "it 48:  0.1 -- -14.195978696458042\n",
      "it 49:  0.2 -- -58.06528984638862\n",
      "it 50:  0.2 -- -309.2317041645292\n",
      "it 51:  0.3 -- -125.40311536740046\n",
      "it 52:  0.1 -- -18.78354197833687\n",
      "it 53:  0.1 -- -168.86948072444648\n",
      "it 54:  0.2 -- -18.510363647015765\n",
      "it 55:  0.2 -- -305.9996616123244\n",
      "it 56:  0.4 -- -40.09329377301037\n",
      "it 57:  0.4 -- -30.0\n",
      "it 58:  0.1 -- -22.36274261039216\n",
      "it 59:  0.3 -- -73.76127668097615\n",
      "it 60:  0.1 -- -63.650110356044024\n",
      "it 61:  0.3 -- -102.37582123593893\n",
      "it 62:  0.3 -- -99.22219518385828\n",
      "it 63:  0.6 -- -30.047199780587107\n",
      "it 64:  1.3 -- 0.0\n",
      "TOTAL TIME: 0.1 minutes\n"
     ]
    }
   ],
   "source": [
    "cont = True\n",
    "it = 0\n",
    "\n",
    "start_time = time.time()\n",
    "\n",
    "while cont:\n",
    "    ti = time.time()\n",
    "    \n",
    "    old_positions = copy.deepcopy(grid_locations)\n",
    "    old_metric = get_metric_vector(old_positions).sum()\n",
    "    \n",
    "    grid_locations = do_iteration(old_positions, grid_size)\n",
    "    \n",
    "    if grid_locations is None:\n",
    "        new_metric = old_metric\n",
    "        cont = False\n",
    "        \n",
    "    else:        \n",
    "        new_metric = get_metric_vector(grid_locations).sum()\n",
    "        grid_size = (grid_locations[0].max()-grid_locations[1].min()+1, grid_locations[1].max()-grid_locations[1].min()+1)\n",
    "        \n",
    "        cont = False if new_metric >= old_metric else True\n",
    "    \n",
    "    tf = time.time()\n",
    "    \n",
    "    print(\"it \"+str(it)+\":  \"+str(np.round(tf-ti, decimals=1))+' -- '+str(new_metric-old_metric))\n",
    "    it += 1\n",
    "    \n",
    "    \n",
    "total_time = time.time()-start_time\n",
    "print('TOTAL TIME: '+str(np.round(total_time/60, decimals=1))+' minutes')"
   ]
  },
  {
   "cell_type": "code",
   "execution_count": 416,
   "id": "39d07c6c",
   "metadata": {},
   "outputs": [],
   "source": [
    "initial_metric_vector = get_metric_vector(original_locations)\n",
    "final_metric_vector = get_metric_vector(grid_locations)"
   ]
  },
  {
   "cell_type": "code",
   "execution_count": 417,
   "id": "bae481c0",
   "metadata": {},
   "outputs": [
    {
     "data": {
      "image/png": "[encoded data removed]",
      "text/plain": [
       "<Figure size 1440x864 with 2 Axes>"
      ]
     },
     "metadata": {
      "needs_background": "light"
     },
     "output_type": "display_data"
    }
   ],
   "source": [
    "import matplotlib as mpl\n",
    "\n",
    "cmap = mpl.cm.get_cmap('viridis')\n",
    "norm = mpl.colors.Normalize(vmin=np.min([initial_metric_vector.min(), final_metric_vector.min()]), vmax=np.min([initial_metric_vector.max(), final_metric_vector.max()]))\n",
    "\n",
    "f, axs = plt.subplots(figsize=(grid_size[0]*2, grid_size[1]), ncols=2)\n",
    "_ = [ax.axis('equal') for ax in axs]\n",
    "_ = [ax.axis('off') for ax in axs]\n",
    "\n",
    "# markers = ['o']*number_of_geographies+['.']*number_empties\n",
    "for geocode, v, x, y in zip(geo_list, initial_metric_vector, *original_locations):\n",
    "    c = cmap(norm(v))\n",
    "    axs[0].plot(x, y, 'o', color=c)\n",
    "    axs[0].annotate(geo_to_name_lookup[geocode], xy=(x,y-0.2), xytext=(0,0), textcoords=\"offset points\", ha='center', va='center', size='small')\n",
    "        \n",
    "for geocode, v, x, y in zip(geo_list, final_metric_vector, *grid_locations):\n",
    "    c = cmap(norm(v))\n",
    "    axs[1].plot(x, y, 'o', color=c)\n",
    "    axs[1].annotate(geo_to_name_lookup[geocode], xy=(x,y-0.2), xytext=(0,0), textcoords=\"offset points\", ha='center', va='center', size='small')"
   ]
  }
 ],
 "metadata": {
  "kernelspec": {
   "display_name": "Python 3 (ipykernel)",
   "language": "python",
   "name": "python3"
  },
  "language_info": {
   "codemirror_mode": {
    "name": "ipython",
    "version": 3
   },
   "file_extension": ".py",
   "mimetype": "text/x-python",
   "name": "python",
   "nbconvert_exporter": "python",
   "pygments_lexer": "ipython3",
   "version": "3.10.4"
  }
 },
 "nbformat": 4,
 "nbformat_minor": 5
}
